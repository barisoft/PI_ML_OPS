{
 "cells": [
  {
   "cell_type": "code",
   "execution_count": 21,
   "metadata": {},
   "outputs": [],
   "source": [
    "import pandas as pd\n",
    "import numpy as np\n",
    "import gzip\n",
    "import json\n",
    "import sys\n",
    "from langdetect import detect, LangDetectException\n",
    "import nltk\n",
    "import seaborn as sns\n",
    "import warnings\n",
    "warnings.filterwarnings('ignore')\n",
    "\n",
    "from nltk.sentiment import SentimentIntensityAnalyzer\n",
    "from sklearn.decomposition import PCA\n",
    "from scipy.stats import zscore\n",
    "from pyod.models.mad import MAD\n",
    "\n",
    "sys.path.append(\"../utils/\")\n",
    "from myFunctions import jsonGzipToDataframe2, toDommyColumns, joinLanguage"
   ]
  },
  {
   "cell_type": "markdown",
   "metadata": {},
   "source": [
    "Descargamos el paquete de palabras que utilizara el analizador se sentimientos"
   ]
  },
  {
   "cell_type": "code",
   "execution_count": 25,
   "metadata": {},
   "outputs": [
    {
     "name": "stderr",
     "output_type": "stream",
     "text": [
      "[nltk_data] Downloading package vader_lexicon to\n",
      "[nltk_data]     /home/rafael/nltk_data...\n"
     ]
    },
    {
     "data": {
      "text/plain": [
       "True"
      ]
     },
     "execution_count": 25,
     "metadata": {},
     "output_type": "execute_result"
    }
   ],
   "source": [
    "nltk.download('vader_lexicon') # ¡SE DEBE EJECUTAR SOLO UNA VEZ!"
   ]
  },
  {
   "cell_type": "markdown",
   "metadata": {},
   "source": [
    "Cargamos dentro de dataframes Pandas los CSVs comprimido "
   ]
  },
  {
   "cell_type": "code",
   "execution_count": 3,
   "metadata": {},
   "outputs": [],
   "source": [
    "df = pd.read_csv('../datasource/user_reviews_chewed.csv.gz')"
   ]
  },
  {
   "cell_type": "code",
   "execution_count": 4,
   "metadata": {},
   "outputs": [],
   "source": [
    "dfSteam = pd.read_csv('../datasource/steam_games_chewed.csv.gz')"
   ]
  },
  {
   "cell_type": "markdown",
   "metadata": {},
   "source": [
    "Nos quedaremos con las columas que necesitaremos agregar a df"
   ]
  },
  {
   "cell_type": "code",
   "execution_count": 5,
   "metadata": {},
   "outputs": [],
   "source": [
    "dfSteam = dfSteam[['id', 'developer']]"
   ]
  },
  {
   "cell_type": "markdown",
   "metadata": {},
   "source": [
    "Quitamos los 'developer' que tengan valor NaN "
   ]
  },
  {
   "cell_type": "code",
   "execution_count": 6,
   "metadata": {},
   "outputs": [],
   "source": [
    "dfSteam = dfSteam.dropna(subset = ['developer']).reset_index(drop = True)"
   ]
  },
  {
   "cell_type": "code",
   "execution_count": null,
   "metadata": {},
   "outputs": [],
   "source": [
    "dfSteam"
   ]
  },
  {
   "cell_type": "code",
   "execution_count": null,
   "metadata": {},
   "outputs": [],
   "source": [
    "df.info()"
   ]
  },
  {
   "cell_type": "markdown",
   "metadata": {},
   "source": [
    "Quitamos los reviews que tengan valor NaN "
   ]
  },
  {
   "cell_type": "code",
   "execution_count": 7,
   "metadata": {},
   "outputs": [],
   "source": [
    "df = df.dropna(subset = ['review']).reset_index(drop = True)"
   ]
  },
  {
   "cell_type": "markdown",
   "metadata": {},
   "source": [
    "Y nos quedamos con las columnas que se van a utilizar en el analisis de sentimiento"
   ]
  },
  {
   "cell_type": "code",
   "execution_count": 8,
   "metadata": {},
   "outputs": [],
   "source": [
    "df = df[['item_id', 'posted', 'recommend', 'review']]"
   ]
  },
  {
   "cell_type": "markdown",
   "metadata": {},
   "source": [
    "Ajustamos rapidamente el tipo de dato de item_id"
   ]
  },
  {
   "cell_type": "code",
   "execution_count": 9,
   "metadata": {},
   "outputs": [],
   "source": [
    "df['item_id'] = df['item_id'].astype('int64')  # Convierte a entero de 64 bits"
   ]
  },
  {
   "cell_type": "code",
   "execution_count": null,
   "metadata": {},
   "outputs": [],
   "source": [
    "df.head()"
   ]
  },
  {
   "cell_type": "code",
   "execution_count": null,
   "metadata": {},
   "outputs": [],
   "source": [
    "df['recommend'].value_counts()"
   ]
  },
  {
   "cell_type": "markdown",
   "metadata": {},
   "source": [
    "#### Save 💾"
   ]
  },
  {
   "cell_type": "markdown",
   "metadata": {},
   "source": [
    "En este punto el dataframe df esta listo para ser la fuente de datos de la función 'userdata()' que respondera desde la<br>API. Siendo asi, tomaremos una instantanea del estado actual de los datos y los persistiremos en un CSV. "
   ]
  },
  {
   "cell_type": "code",
   "execution_count": 10,
   "metadata": {},
   "outputs": [],
   "source": [
    "# Guardar el DataFrame en un archivo .csv comprimido con gzip\n",
    "df.to_csv('../datasource/user_reviews_Api.csv.gz', compression='gzip', index = False)"
   ]
  },
  {
   "cell_type": "markdown",
   "metadata": {},
   "source": [
    "Agreguemos a df la columna 'developer' que esta en dfSteam"
   ]
  },
  {
   "cell_type": "code",
   "execution_count": 72,
   "metadata": {},
   "outputs": [],
   "source": [
    "# Let's add the 'gamesGenre' columns to 'dfUserItems'. Now we have the years of the games\n",
    "# next to the items!\n",
    "dfUnion = df.merge(dfSteam, left_on = 'item_id', right_on = 'id', how = 'inner')"
   ]
  },
  {
   "cell_type": "markdown",
   "metadata": {},
   "source": [
    "Obtengamos el año del comentario del contenido de la columna 'posted' y guardemoslo en una nueva columna 'year'"
   ]
  },
  {
   "cell_type": "code",
   "execution_count": 73,
   "metadata": {},
   "outputs": [],
   "source": [
    "# Verifiquemos el formato de fecha valido de la columna 'posted'\n",
    "# Usando la exresion regular 'Posted |,|\\.' podemos verificar la forma en la que esta escrita la \n",
    "# fecha. Estamos buscando un texto como por ejemplo:\n",
    "#              Posted xxx, yyyy.\n",
    "# En donde yyyy sera el año\n",
    "dfUnion['posted'] = pd.to_datetime(\n",
    "    dfUnion['posted'].astype(str).str.replace(r'Posted |,|\\.', '', regex = True), errors = 'coerce')\n",
    "\n",
    "# Crea la columna 'year' a partir de 'posted'\n",
    "dfUnion['year'] = dfUnion['posted'].dt.year.astype('Int64')\n",
    "\n",
    "# La columna posted ya no hace falta y aprovecho para quitar 'id'\n",
    "dfUnion.drop(['posted', 'id'], axis = 1, inplace = True)"
   ]
  },
  {
   "cell_type": "markdown",
   "metadata": {},
   "source": [
    "Quitamos los años que tengan valor NaN "
   ]
  },
  {
   "cell_type": "code",
   "execution_count": 74,
   "metadata": {},
   "outputs": [],
   "source": [
    "dfUnion = dfUnion.dropna(subset = ['year']).reset_index(drop = True)"
   ]
  },
  {
   "cell_type": "code",
   "execution_count": null,
   "metadata": {},
   "outputs": [],
   "source": [
    "dfUnion"
   ]
  },
  {
   "cell_type": "markdown",
   "metadata": {},
   "source": [
    "#### Idioma 🇬🇧"
   ]
  },
  {
   "cell_type": "code",
   "execution_count": 94,
   "metadata": {},
   "outputs": [],
   "source": [
    "dfUnionLanguage = dfUnion.copy()"
   ]
  },
  {
   "cell_type": "code",
   "execution_count": 95,
   "metadata": {},
   "outputs": [
    {
     "name": "stdout",
     "output_type": "stream",
     "text": [
      "dfUnion 139818262572208\n",
      "dfUnionLanguage: 139818263587488\n"
     ]
    }
   ],
   "source": [
    "#print('dfUnionLanguage:', id(dfUnionLanguage))\n",
    "print('dfUnion', id(dfUnion))\n",
    "print('dfUnionLanguage:', id(dfUnionLanguage))"
   ]
  },
  {
   "cell_type": "markdown",
   "metadata": {},
   "source": [
    "Agreguemos la columna 'language' que corresponde al idioma del comentario del usuario"
   ]
  },
  {
   "cell_type": "code",
   "execution_count": 96,
   "metadata": {},
   "outputs": [],
   "source": [
    "dfUnionLanguage = joinLanguage(dfUnionLanguage, 'review')\n"
   ]
  },
  {
   "cell_type": "markdown",
   "metadata": {},
   "source": [
    "De no ser posible este análisis por estar ausente la reseña escrita, debe tomar el valor de 1."
   ]
  },
  {
   "cell_type": "code",
   "execution_count": 97,
   "metadata": {},
   "outputs": [
    {
     "name": "stdout",
     "output_type": "stream",
     "text": [
      "Reseñas nulas: 391\n",
      "Reseñas nulas: 0\n"
     ]
    }
   ],
   "source": [
    "print('Reseñas nulas:',dfUnionLanguage['language'].isnull().sum())\n",
    "dfUnionLanguage['language'].fillna(1, inplace=True)\n",
    "print('Reseñas nulas despues de la conversion:',dfUnionLanguage['language'].isnull().sum())"
   ]
  },
  {
   "cell_type": "markdown",
   "metadata": {},
   "source": [
    "¿Cual es el idioma que mas se repite?"
   ]
  },
  {
   "cell_type": "code",
   "execution_count": 98,
   "metadata": {},
   "outputs": [
    {
     "data": {
      "text/plain": [
       "language\n",
       "en    39408\n",
       "pt     1524\n",
       "es      909\n",
       "de      824\n",
       "so      693\n",
       "Name: count, dtype: int64"
      ]
     },
     "execution_count": 98,
     "metadata": {},
     "output_type": "execute_result"
    }
   ],
   "source": [
    "dfUnionLanguage['language'].value_counts().head()"
   ]
  },
  {
   "cell_type": "markdown",
   "metadata": {},
   "source": [
    "Nos quedaremos con 'en'"
   ]
  },
  {
   "cell_type": "code",
   "execution_count": 99,
   "metadata": {},
   "outputs": [],
   "source": [
    "# Borramos los comentarios que no estan en ingles y los que tienen valor NaN\n",
    "dfUnionLanguage = dfUnionLanguage.loc[\n",
    "      (dfUnionLanguage['language'] == 'en')\n",
    "      #(dfUnionLanguage['language'].notna()) & (dfUnionLanguage['language'] == 'en')\n",
    "    ].reset_index(drop = True)\n",
    "# Todo quedo en ingles asi que es redundante la columna 'language'\n",
    "dfUnionLanguage.drop('language', axis = 1, inplace = True)"
   ]
  },
  {
   "cell_type": "code",
   "execution_count": 100,
   "metadata": {},
   "outputs": [
    {
     "name": "stdout",
     "output_type": "stream",
     "text": [
      "<class 'pandas.core.frame.DataFrame'>\n",
      "RangeIndex: 39408 entries, 0 to 39407\n",
      "Data columns (total 5 columns):\n",
      " #   Column     Non-Null Count  Dtype \n",
      "---  ------     --------------  ----- \n",
      " 0   item_id    39408 non-null  int64 \n",
      " 1   recommend  39408 non-null  object\n",
      " 2   review     39408 non-null  object\n",
      " 3   developer  39408 non-null  object\n",
      " 4   year       39408 non-null  Int64 \n",
      "dtypes: Int64(1), int64(1), object(3)\n",
      "memory usage: 1.5+ MB\n"
     ]
    }
   ],
   "source": [
    "dfUnionLanguage.info()"
   ]
  },
  {
   "cell_type": "markdown",
   "metadata": {},
   "source": [
    "Proceso de limpieza de la columna 'review'"
   ]
  },
  {
   "cell_type": "code",
   "execution_count": 101,
   "metadata": {},
   "outputs": [],
   "source": [
    "# Cambiemos todo a minusculas para evitar ambiguedades en las palabras.\n",
    "dfUnionLanguage.loc[:, 'review'] = dfUnionLanguage['review'].str.lower()\n",
    "\n",
    "# Fuera los caracteres especiales y signos de puntuacion.\n",
    "dfUnionLanguage['review'] = dfUnionLanguage['review'].replace('[^A-Za-z0-9\\s]+', '', regex = True)\n",
    "dfUnionLanguage.loc[:, 'review'] = dfUnionLanguage['review'].str.replace('[^\\w\\s]', '', regex = True)"
   ]
  },
  {
   "cell_type": "markdown",
   "metadata": {},
   "source": [
    "#### Analisis de sentimiento 🫶"
   ]
  },
  {
   "cell_type": "code",
   "execution_count": 103,
   "metadata": {},
   "outputs": [],
   "source": [
    "def sentimentAnalysis(df):\n",
    "    analyzer = SentimentIntensityAnalyzer()\n",
    "\n",
    "    # Calcular las puntuaciones de sentimiento a cada texto en la columna 'review'\n",
    "    # Creamos la columna 'compoundScore' para guardad el calculo\n",
    "    df['compoundScore'] = df['review'].apply(\n",
    "        lambda review: analyzer.polarity_scores(review)['compound'])\n",
    "    # Reflejamos en la nueva columna 'sentimentAnalysis' la escala '0' si es malo,\n",
    "    # '1' si es neutral y '2' si es positivo\n",
    "    df['sentimentAnalysis'] = df['compoundScore'].apply(\n",
    "        lambda score: 0 if score < 0 else (1 if score == 0 else 2))\n",
    "\n",
    "    # Conteo de reviews por score\n",
    "    scoreCounts = df['sentimentAnalysis'].value_counts()\n",
    "\n",
    "    # Conteo de reviews en blanco\n",
    "    blankReviewsCount = df['review'].isnull().sum()\n",
    "\n",
    "    # Total de reviews\n",
    "    totalReviews = len(df)\n",
    "\n",
    "    dataset = {\n",
    "      # Conteo de reviews por score\n",
    "      'scoreCounts': scoreCounts,\n",
    "\n",
    "      # Conteo de reviews en blanco\n",
    "      'blankReviewsCount': blankReviewsCount,\n",
    "\n",
    "      # Calcular porcentajes\n",
    "      'scorePercentages': (scoreCounts / totalReviews * 100).round(2),\n",
    "      'blankReviewsPercentage': (blankReviewsCount / totalReviews * 100).round(2)\n",
    "    }\n",
    "     \n",
    "    # Ya no necesitaremos las columnas 'review' y 'compoundScore'\n",
    "    df.drop(['review','compoundScore'], axis = 1, inplace = True)  \n",
    "\n",
    "    #return df, dataset"
   ]
  },
  {
   "cell_type": "code",
   "execution_count": 105,
   "metadata": {},
   "outputs": [],
   "source": [
    "# Ejecutamos el analisis de sentimiento y lo incorporamos como una nueva columna al dataframe\n",
    "sentimentAnalysis(dfUnionLanguage)\n",
    "#dfUserReviews, d = sentimentAnalysis(dfUnionLanguage)"
   ]
  },
  {
   "cell_type": "code",
   "execution_count": 106,
   "metadata": {},
   "outputs": [
    {
     "data": {
      "text/html": [
       "<div>\n",
       "<style scoped>\n",
       "    .dataframe tbody tr th:only-of-type {\n",
       "        vertical-align: middle;\n",
       "    }\n",
       "\n",
       "    .dataframe tbody tr th {\n",
       "        vertical-align: top;\n",
       "    }\n",
       "\n",
       "    .dataframe thead th {\n",
       "        text-align: right;\n",
       "    }\n",
       "</style>\n",
       "<table border=\"1\" class=\"dataframe\">\n",
       "  <thead>\n",
       "    <tr style=\"text-align: right;\">\n",
       "      <th></th>\n",
       "      <th>item_id</th>\n",
       "      <th>recommend</th>\n",
       "      <th>developer</th>\n",
       "      <th>year</th>\n",
       "      <th>sentimentAnalysis</th>\n",
       "    </tr>\n",
       "  </thead>\n",
       "  <tbody>\n",
       "    <tr>\n",
       "      <th>0</th>\n",
       "      <td>1250</td>\n",
       "      <td>True</td>\n",
       "      <td>Tripwire Interactive</td>\n",
       "      <td>2011</td>\n",
       "      <td>2</td>\n",
       "    </tr>\n",
       "    <tr>\n",
       "      <th>1</th>\n",
       "      <td>1250</td>\n",
       "      <td>True</td>\n",
       "      <td>Tripwire Interactive</td>\n",
       "      <td>2015</td>\n",
       "      <td>2</td>\n",
       "    </tr>\n",
       "    <tr>\n",
       "      <th>2</th>\n",
       "      <td>1250</td>\n",
       "      <td>True</td>\n",
       "      <td>Tripwire Interactive</td>\n",
       "      <td>2013</td>\n",
       "      <td>0</td>\n",
       "    </tr>\n",
       "    <tr>\n",
       "      <th>3</th>\n",
       "      <td>1250</td>\n",
       "      <td>True</td>\n",
       "      <td>Tripwire Interactive</td>\n",
       "      <td>2010</td>\n",
       "      <td>2</td>\n",
       "    </tr>\n",
       "    <tr>\n",
       "      <th>4</th>\n",
       "      <td>1250</td>\n",
       "      <td>True</td>\n",
       "      <td>Tripwire Interactive</td>\n",
       "      <td>2015</td>\n",
       "      <td>0</td>\n",
       "    </tr>\n",
       "    <tr>\n",
       "      <th>...</th>\n",
       "      <td>...</td>\n",
       "      <td>...</td>\n",
       "      <td>...</td>\n",
       "      <td>...</td>\n",
       "      <td>...</td>\n",
       "    </tr>\n",
       "    <tr>\n",
       "      <th>39403</th>\n",
       "      <td>367780</td>\n",
       "      <td>True</td>\n",
       "      <td>Soloweb Studios,Ravens Eye Studio</td>\n",
       "      <td>2015</td>\n",
       "      <td>2</td>\n",
       "    </tr>\n",
       "    <tr>\n",
       "      <th>39404</th>\n",
       "      <td>367780</td>\n",
       "      <td>True</td>\n",
       "      <td>Soloweb Studios,Ravens Eye Studio</td>\n",
       "      <td>2015</td>\n",
       "      <td>2</td>\n",
       "    </tr>\n",
       "    <tr>\n",
       "      <th>39405</th>\n",
       "      <td>305920</td>\n",
       "      <td>False</td>\n",
       "      <td>ShaunJS</td>\n",
       "      <td>2015</td>\n",
       "      <td>0</td>\n",
       "    </tr>\n",
       "    <tr>\n",
       "      <th>39406</th>\n",
       "      <td>306040</td>\n",
       "      <td>True</td>\n",
       "      <td>Antanas Marcelionis,Renė Petrulienė</td>\n",
       "      <td>2015</td>\n",
       "      <td>2</td>\n",
       "    </tr>\n",
       "    <tr>\n",
       "      <th>39407</th>\n",
       "      <td>307130</td>\n",
       "      <td>True</td>\n",
       "      <td>Legend Studio</td>\n",
       "      <td>2015</td>\n",
       "      <td>2</td>\n",
       "    </tr>\n",
       "  </tbody>\n",
       "</table>\n",
       "<p>39408 rows × 5 columns</p>\n",
       "</div>"
      ],
      "text/plain": [
       "       item_id recommend                            developer  year  \\\n",
       "0         1250      True                 Tripwire Interactive  2011   \n",
       "1         1250      True                 Tripwire Interactive  2015   \n",
       "2         1250      True                 Tripwire Interactive  2013   \n",
       "3         1250      True                 Tripwire Interactive  2010   \n",
       "4         1250      True                 Tripwire Interactive  2015   \n",
       "...        ...       ...                                  ...   ...   \n",
       "39403   367780      True    Soloweb Studios,Ravens Eye Studio  2015   \n",
       "39404   367780      True    Soloweb Studios,Ravens Eye Studio  2015   \n",
       "39405   305920     False                              ShaunJS  2015   \n",
       "39406   306040      True  Antanas Marcelionis,Renė Petrulienė  2015   \n",
       "39407   307130      True                        Legend Studio  2015   \n",
       "\n",
       "       sentimentAnalysis  \n",
       "0                      2  \n",
       "1                      2  \n",
       "2                      0  \n",
       "3                      2  \n",
       "4                      0  \n",
       "...                  ...  \n",
       "39403                  2  \n",
       "39404                  2  \n",
       "39405                  0  \n",
       "39406                  2  \n",
       "39407                  2  \n",
       "\n",
       "[39408 rows x 5 columns]"
      ]
     },
     "execution_count": 106,
     "metadata": {},
     "output_type": "execute_result"
    }
   ],
   "source": [
    "dfUnionLanguage"
   ]
  },
  {
   "cell_type": "code",
   "execution_count": 107,
   "metadata": {},
   "outputs": [
    {
     "name": "stdout",
     "output_type": "stream",
     "text": [
      "<class 'pandas.core.frame.DataFrame'>\n",
      "RangeIndex: 39408 entries, 0 to 39407\n",
      "Data columns (total 5 columns):\n",
      " #   Column             Non-Null Count  Dtype \n",
      "---  ------             --------------  ----- \n",
      " 0   item_id            39408 non-null  int64 \n",
      " 1   recommend          39408 non-null  object\n",
      " 2   developer          39408 non-null  object\n",
      " 3   year               39408 non-null  Int64 \n",
      " 4   sentimentAnalysis  39408 non-null  int64 \n",
      "dtypes: Int64(1), int64(2), object(2)\n",
      "memory usage: 1.5+ MB\n"
     ]
    }
   ],
   "source": [
    "dfUnionLanguage.info()"
   ]
  },
  {
   "cell_type": "markdown",
   "metadata": {},
   "source": [
    "#### Save 💾"
   ]
  },
  {
   "cell_type": "markdown",
   "metadata": {},
   "source": [
    "En este punto el dataframe df esta listo para ser la fuente de datos de las funciones 'best_developer_year' y<br>'developer_reviews_analysis()' que responderan desde la API. Siendo asi, tomaremos una instantanea del estado actual<br>de los datos y los persistiremos en un CSV. "
   ]
  },
  {
   "cell_type": "code",
   "execution_count": 108,
   "metadata": {},
   "outputs": [],
   "source": [
    "# Guardar el DataFrame en un archivo .csv comprimido con gzip\n",
    "df.to_csv('../datasource/user_reviews_2Api.csv.gz', compression='gzip', index = False)"
   ]
  },
  {
   "cell_type": "markdown",
   "metadata": {},
   "source": [
    "#### LA CONSULTA PARA LA API"
   ]
  },
  {
   "cell_type": "code",
   "execution_count": 137,
   "metadata": {},
   "outputs": [],
   "source": [
    "def best_developer_year(year: int) -> pd.DataFrame:\n",
    "  \"\"\"\n",
    "  Devuelve el top 3 de desarrolladores con juegos mas recomendados por usuarios para el año dado.\n",
    "  Params:\n",
    "    year (int): El año a considerar.\n",
    "  Returns:\n",
    "    pd.DataFrame: Un DataFrame con las columnas 'developer' y 'recomendaciones', ordenado por\n",
    "    'recomendaciones' de forma descendente y limitado a las 3 primeras filas.\n",
    "  \"\"\"\n",
    "  if not isinstance(year, int):\n",
    "    return print(f'{year} fuera de rango')\n",
    "  # Filtrar los juegos recomendados para el año dado\n",
    "  juegosRecomendados = dfUnionLanguage[\n",
    "      (dfUnionLanguage['year'] == year) &\n",
    "      (dfUnionLanguage['recommend'] == True) &\n",
    "      (dfUnionLanguage['sentimentAnalysis'] == 2)\n",
    "  ]  \n",
    "  \n",
    "  # Contar las recomendaciones por desarrollador\n",
    "  recomendacionesXDesarrollador = (\n",
    "      juegosRecomendados.groupby('developer')['item_id'].nunique()\n",
    "  )  \n",
    "  \n",
    "  # Convertir a DataFrame y ordenar por recomendaciones de forma descendente\n",
    "  topDesarrolladores = recomendacionesXDesarrollador.to_frame(name = 'recomendaciones').reset_index()\n",
    "  topDesarrolladores = topDesarrolladores.sort_values(by = 'recomendaciones', ascending = False)  \n",
    "\n",
    "  topDesarrolladoresLista = []\n",
    "  for i in range(0, 3):\n",
    "      puesto = f\"Puesto {i + 1}\"\n",
    "      try:\n",
    "        desarrollador = topDesarrolladores.loc[i, 'developer']\n",
    "      except Exception as e:\n",
    "         return print(f'{year} fuera de rango\\n{e}')\n",
    "      topDesarrolladoresLista.append({puesto: desarrollador})\n",
    "  return topDesarrolladoresLista"
   ]
  },
  {
   "cell_type": "code",
   "execution_count": 144,
   "metadata": {},
   "outputs": [
    {
     "data": {
      "text/plain": [
       "[{'Puesto 1': '10th Art Studio,Adventure Productions'},\n",
       " {'Puesto 2': '11 bit studios'},\n",
       " {'Puesto 3': '14° East'}]"
      ]
     },
     "execution_count": 144,
     "metadata": {},
     "output_type": "execute_result"
    }
   ],
   "source": [
    "best_developer_year(2015)"
   ]
  },
  {
   "cell_type": "code",
   "execution_count": 146,
   "metadata": {},
   "outputs": [],
   "source": [
    "import pandas as pd\n",
    "\n",
    "def developer_reviews_analysis(developer: str) -> dict:\n",
    "    \"\"\"Devuelve un diccionario con el nombre del desarrollador como llave y una lista con la\n",
    "    cantidad de reseñas negativas y positivas del desarrollador.\n",
    "    Params:\n",
    "        developer (str): El nombre del desarrollador.\n",
    "    Returns:\n",
    "        dict: Un diccionario con la siguiente estructura: {'nombre_desarrollador': ['Negative = X', 'Positive = Y']}\n",
    "    \"\"\"\n",
    "    # Filtrar las reseñas del desarrollador especificado\n",
    "    developer_reviews = dfUnionLanguage[dfUnionLanguage['developer'] == developer]\n",
    "\n",
    "    # Contar las reseñas positivas y negativas\n",
    "    negative_count = developer_reviews[developer_reviews['sentimentAnalysis'] == 0].shape[0]\n",
    "    positive_count = developer_reviews[developer_reviews['sentimentAnalysis'] == 2].shape[0]\n",
    "\n",
    "    # Crear el diccionario de resultados\n",
    "    resultado = {\n",
    "        developer: [f\"Negative = {negative_count}\", f\"Positive = {positive_count}\"]\n",
    "    }\n",
    "\n",
    "    return resultado\n"
   ]
  },
  {
   "cell_type": "code",
   "execution_count": 147,
   "metadata": {},
   "outputs": [
    {
     "data": {
      "text/plain": [
       "{'Tripwire Interactive': ['Negative = 83', 'Positive = 243']}"
      ]
     },
     "execution_count": 147,
     "metadata": {},
     "output_type": "execute_result"
    }
   ],
   "source": [
    "developer_reviews_analysis('Tripwire Interactive')"
   ]
  },
  {
   "cell_type": "code",
   "execution_count": null,
   "metadata": {},
   "outputs": [],
   "source": [
    "# Convierte a entero de 64 bits\n",
    "df['item_id'] = df['item_id'].astype('int64')"
   ]
  }
 ],
 "metadata": {
  "kernelspec": {
   "display_name": "Python 3",
   "language": "python",
   "name": "python3"
  },
  "language_info": {
   "codemirror_mode": {
    "name": "ipython",
    "version": 3
   },
   "file_extension": ".py",
   "mimetype": "text/x-python",
   "name": "python",
   "nbconvert_exporter": "python",
   "pygments_lexer": "ipython3",
   "version": "3.10.12"
  }
 },
 "nbformat": 4,
 "nbformat_minor": 2
}
