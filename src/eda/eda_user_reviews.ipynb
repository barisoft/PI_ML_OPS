{
 "cells": [
  {
   "cell_type": "code",
   "execution_count": 1,
   "metadata": {},
   "outputs": [
    {
     "name": "stderr",
     "output_type": "stream",
     "text": [
      "/usr/lib/python3/dist-packages/scipy/__init__.py:146: UserWarning: A NumPy version >=1.17.3 and <1.25.0 is required for this version of SciPy (detected version 1.25.2\n",
      "  warnings.warn(f\"A NumPy version >={np_minversion} and <{np_maxversion}\"\n"
     ]
    }
   ],
   "source": [
    "import pandas as pd\n",
    "import numpy as np\n",
    "#import gzip\n",
    "#import json\n",
    "import sys\n",
    "from langdetect import detect, LangDetectException\n",
    "import nltk\n",
    "#import seaborn as sns\n",
    "import warnings\n",
    "warnings.filterwarnings('ignore')\n",
    "\n",
    "from nltk.sentiment import SentimentIntensityAnalyzer\n",
    "#from sklearn.decomposition import PCA\n",
    "#from scipy.stats import zscore\n",
    "#from pyod.models.mad import MAD\n",
    "\n",
    "sys.path.append(\"../utils/\")\n",
    "from myFunctions import joinLanguage\n",
    "#from myFunctions import jsonGzipToDataframe2, toDommyColumns, joinLanguage"
   ]
  },
  {
   "cell_type": "markdown",
   "metadata": {},
   "source": [
    "Descargamos el paquete de palabras que utilizara el analizador se sentimientos"
   ]
  },
  {
   "cell_type": "code",
   "execution_count": 2,
   "metadata": {},
   "outputs": [
    {
     "name": "stderr",
     "output_type": "stream",
     "text": [
      "[nltk_data] Downloading package vader_lexicon to\n",
      "[nltk_data]     /home/rafael/nltk_data...\n",
      "[nltk_data]   Package vader_lexicon is already up-to-date!\n"
     ]
    },
    {
     "data": {
      "text/plain": [
       "True"
      ]
     },
     "execution_count": 2,
     "metadata": {},
     "output_type": "execute_result"
    }
   ],
   "source": [
    "nltk.download('vader_lexicon') # ¡SE DEBE EJECUTAR SOLO UNA VEZ!"
   ]
  },
  {
   "cell_type": "markdown",
   "metadata": {},
   "source": [
    "Cargamos dentro de dataframes Pandas los CSVs comprimido "
   ]
  },
  {
   "cell_type": "code",
   "execution_count": 3,
   "metadata": {},
   "outputs": [],
   "source": [
    "df = pd.read_csv('../datasource/user_reviews_chewed.csv.gz')"
   ]
  },
  {
   "cell_type": "code",
   "execution_count": 4,
   "metadata": {},
   "outputs": [],
   "source": [
    "dfSteam = pd.read_csv('../datasource/steam_games_chewed.csv.gz')"
   ]
  },
  {
   "cell_type": "markdown",
   "metadata": {},
   "source": [
    "Nos quedaremos con las columas que necesitaremos agregar a df"
   ]
  },
  {
   "cell_type": "code",
   "execution_count": 5,
   "metadata": {},
   "outputs": [],
   "source": [
    "dfSteam = dfSteam[['id', 'developer']]"
   ]
  },
  {
   "cell_type": "markdown",
   "metadata": {},
   "source": [
    "Quitamos los 'developer' que tengan valor NaN "
   ]
  },
  {
   "cell_type": "code",
   "execution_count": 6,
   "metadata": {},
   "outputs": [],
   "source": [
    "dfSteam = dfSteam.dropna(subset = ['developer']).reset_index(drop = True)"
   ]
  },
  {
   "cell_type": "code",
   "execution_count": 7,
   "metadata": {},
   "outputs": [
    {
     "data": {
      "text/html": [
       "<div>\n",
       "<style scoped>\n",
       "    .dataframe tbody tr th:only-of-type {\n",
       "        vertical-align: middle;\n",
       "    }\n",
       "\n",
       "    .dataframe tbody tr th {\n",
       "        vertical-align: top;\n",
       "    }\n",
       "\n",
       "    .dataframe thead th {\n",
       "        text-align: right;\n",
       "    }\n",
       "</style>\n",
       "<table border=\"1\" class=\"dataframe\">\n",
       "  <thead>\n",
       "    <tr style=\"text-align: right;\">\n",
       "      <th></th>\n",
       "      <th>id</th>\n",
       "      <th>developer</th>\n",
       "    </tr>\n",
       "  </thead>\n",
       "  <tbody>\n",
       "    <tr>\n",
       "      <th>0</th>\n",
       "      <td>761140</td>\n",
       "      <td>Kotoshiro</td>\n",
       "    </tr>\n",
       "    <tr>\n",
       "      <th>1</th>\n",
       "      <td>643980</td>\n",
       "      <td>Secret Level SRL</td>\n",
       "    </tr>\n",
       "    <tr>\n",
       "      <th>2</th>\n",
       "      <td>670290</td>\n",
       "      <td>Poolians.com</td>\n",
       "    </tr>\n",
       "    <tr>\n",
       "      <th>3</th>\n",
       "      <td>767400</td>\n",
       "      <td>彼岸领域</td>\n",
       "    </tr>\n",
       "    <tr>\n",
       "      <th>4</th>\n",
       "      <td>772540</td>\n",
       "      <td>Trickjump Games Ltd</td>\n",
       "    </tr>\n",
       "    <tr>\n",
       "      <th>...</th>\n",
       "      <td>...</td>\n",
       "      <td>...</td>\n",
       "    </tr>\n",
       "    <tr>\n",
       "      <th>28823</th>\n",
       "      <td>745400</td>\n",
       "      <td>Bidoniera Games</td>\n",
       "    </tr>\n",
       "    <tr>\n",
       "      <th>28824</th>\n",
       "      <td>773640</td>\n",
       "      <td>Nikita \"Ghost_RUS\"</td>\n",
       "    </tr>\n",
       "    <tr>\n",
       "      <th>28825</th>\n",
       "      <td>733530</td>\n",
       "      <td>Sacada</td>\n",
       "    </tr>\n",
       "    <tr>\n",
       "      <th>28826</th>\n",
       "      <td>610660</td>\n",
       "      <td>Laush Dmitriy Sergeevich</td>\n",
       "    </tr>\n",
       "    <tr>\n",
       "      <th>28827</th>\n",
       "      <td>658870</td>\n",
       "      <td>xropi,stev3ns</td>\n",
       "    </tr>\n",
       "  </tbody>\n",
       "</table>\n",
       "<p>28828 rows × 2 columns</p>\n",
       "</div>"
      ],
      "text/plain": [
       "           id                 developer\n",
       "0      761140                 Kotoshiro\n",
       "1      643980          Secret Level SRL\n",
       "2      670290              Poolians.com\n",
       "3      767400                      彼岸领域\n",
       "4      772540       Trickjump Games Ltd\n",
       "...       ...                       ...\n",
       "28823  745400           Bidoniera Games\n",
       "28824  773640        Nikita \"Ghost_RUS\"\n",
       "28825  733530                    Sacada\n",
       "28826  610660  Laush Dmitriy Sergeevich\n",
       "28827  658870             xropi,stev3ns\n",
       "\n",
       "[28828 rows x 2 columns]"
      ]
     },
     "execution_count": 7,
     "metadata": {},
     "output_type": "execute_result"
    }
   ],
   "source": [
    "dfSteam"
   ]
  },
  {
   "cell_type": "code",
   "execution_count": 8,
   "metadata": {},
   "outputs": [
    {
     "name": "stdout",
     "output_type": "stream",
     "text": [
      "<class 'pandas.core.frame.DataFrame'>\n",
      "RangeIndex: 263226 entries, 0 to 263225\n",
      "Data columns (total 8 columns):\n",
      " #   Column       Non-Null Count   Dtype  \n",
      "---  ------       --------------   -----  \n",
      " 0   user_id      263226 non-null  object \n",
      " 1   item_id      66616 non-null   float64\n",
      " 2   posted       66616 non-null   object \n",
      " 3   last_edited  6140 non-null    object \n",
      " 4   recommend    66616 non-null   object \n",
      " 5   funny        8151 non-null    object \n",
      " 6   helpful      66616 non-null   object \n",
      " 7   review       66586 non-null   object \n",
      "dtypes: float64(1), object(7)\n",
      "memory usage: 16.1+ MB\n"
     ]
    }
   ],
   "source": [
    "df.info()"
   ]
  },
  {
   "cell_type": "markdown",
   "metadata": {},
   "source": [
    "Quitamos los reviews que tengan valor NaN "
   ]
  },
  {
   "cell_type": "code",
   "execution_count": 9,
   "metadata": {},
   "outputs": [],
   "source": [
    "df = df.dropna(subset = ['review']).reset_index(drop = True)"
   ]
  },
  {
   "cell_type": "markdown",
   "metadata": {},
   "source": [
    "Ajustamos rapidamente el tipo de dato de item_id"
   ]
  },
  {
   "cell_type": "code",
   "execution_count": 10,
   "metadata": {},
   "outputs": [],
   "source": [
    "df['item_id'] = df['item_id'].astype('int64')  # Convierte a entero de 64 bits"
   ]
  },
  {
   "cell_type": "markdown",
   "metadata": {},
   "source": [
    "#### Save 💾"
   ]
  },
  {
   "cell_type": "markdown",
   "metadata": {},
   "source": [
    "En este punto el dataframe df esta listo para ser la fuente de datos de la función 'userdata()' que respondera desde la<br>API. Siendo asi, tomaremos una instantanea del estado actual de los datos y los persistiremos en un CSV. "
   ]
  },
  {
   "cell_type": "code",
   "execution_count": 11,
   "metadata": {},
   "outputs": [],
   "source": [
    "# Guardar el DataFrame en un archivo .csv comprimido con gzip\n",
    "df.to_parquet('../datasource/render/user_reviews_4Api.parquet')\n",
    "#df.to_csv('../datasource/render/user_reviews_4Api.csv.gz', compression='gzip', index = False)"
   ]
  },
  {
   "cell_type": "markdown",
   "metadata": {},
   "source": [
    "Y nos quedamos con las columnas que se van a utilizar en el analisis de sentimiento"
   ]
  },
  {
   "cell_type": "code",
   "execution_count": 12,
   "metadata": {},
   "outputs": [],
   "source": [
    "df = df[['item_id', 'posted', 'recommend', 'review']]"
   ]
  },
  {
   "cell_type": "code",
   "execution_count": 13,
   "metadata": {},
   "outputs": [
    {
     "data": {
      "text/html": [
       "<div>\n",
       "<style scoped>\n",
       "    .dataframe tbody tr th:only-of-type {\n",
       "        vertical-align: middle;\n",
       "    }\n",
       "\n",
       "    .dataframe tbody tr th {\n",
       "        vertical-align: top;\n",
       "    }\n",
       "\n",
       "    .dataframe thead th {\n",
       "        text-align: right;\n",
       "    }\n",
       "</style>\n",
       "<table border=\"1\" class=\"dataframe\">\n",
       "  <thead>\n",
       "    <tr style=\"text-align: right;\">\n",
       "      <th></th>\n",
       "      <th>item_id</th>\n",
       "      <th>posted</th>\n",
       "      <th>recommend</th>\n",
       "      <th>review</th>\n",
       "    </tr>\n",
       "  </thead>\n",
       "  <tbody>\n",
       "    <tr>\n",
       "      <th>0</th>\n",
       "      <td>1250</td>\n",
       "      <td>Posted November 5, 2011.</td>\n",
       "      <td>True</td>\n",
       "      <td>Simple yet with great replayability. In my opi...</td>\n",
       "    </tr>\n",
       "    <tr>\n",
       "      <th>1</th>\n",
       "      <td>22200</td>\n",
       "      <td>Posted July 15, 2011.</td>\n",
       "      <td>True</td>\n",
       "      <td>It's unique and worth a playthrough.</td>\n",
       "    </tr>\n",
       "    <tr>\n",
       "      <th>2</th>\n",
       "      <td>43110</td>\n",
       "      <td>Posted April 21, 2011.</td>\n",
       "      <td>True</td>\n",
       "      <td>Great atmosphere. The gunplay can be a bit chu...</td>\n",
       "    </tr>\n",
       "    <tr>\n",
       "      <th>3</th>\n",
       "      <td>251610</td>\n",
       "      <td>Posted June 24, 2014.</td>\n",
       "      <td>True</td>\n",
       "      <td>I know what you think when you see this title ...</td>\n",
       "    </tr>\n",
       "    <tr>\n",
       "      <th>4</th>\n",
       "      <td>227300</td>\n",
       "      <td>Posted September 8, 2013.</td>\n",
       "      <td>True</td>\n",
       "      <td>For a simple (it's actually not all that simpl...</td>\n",
       "    </tr>\n",
       "  </tbody>\n",
       "</table>\n",
       "</div>"
      ],
      "text/plain": [
       "   item_id                     posted recommend  \\\n",
       "0     1250   Posted November 5, 2011.      True   \n",
       "1    22200      Posted July 15, 2011.      True   \n",
       "2    43110     Posted April 21, 2011.      True   \n",
       "3   251610      Posted June 24, 2014.      True   \n",
       "4   227300  Posted September 8, 2013.      True   \n",
       "\n",
       "                                              review  \n",
       "0  Simple yet with great replayability. In my opi...  \n",
       "1               It's unique and worth a playthrough.  \n",
       "2  Great atmosphere. The gunplay can be a bit chu...  \n",
       "3  I know what you think when you see this title ...  \n",
       "4  For a simple (it's actually not all that simpl...  "
      ]
     },
     "execution_count": 13,
     "metadata": {},
     "output_type": "execute_result"
    }
   ],
   "source": [
    "df.head()"
   ]
  },
  {
   "cell_type": "code",
   "execution_count": 14,
   "metadata": {},
   "outputs": [
    {
     "data": {
      "text/plain": [
       "recommend\n",
       "True     59757\n",
       "False     6829\n",
       "Name: count, dtype: int64"
      ]
     },
     "execution_count": 14,
     "metadata": {},
     "output_type": "execute_result"
    }
   ],
   "source": [
    "df['recommend'].value_counts()"
   ]
  },
  {
   "cell_type": "markdown",
   "metadata": {},
   "source": [
    "Agreguemos a df la columna 'developer' que esta en dfSteam"
   ]
  },
  {
   "cell_type": "code",
   "execution_count": 15,
   "metadata": {},
   "outputs": [],
   "source": [
    "# Let's add the 'gamesGenre' columns to 'dfUserItems'. Now we have the years of the games\n",
    "# next to the items!\n",
    "dfUnion = df.merge(dfSteam, left_on = 'item_id', right_on = 'id', how = 'inner')"
   ]
  },
  {
   "cell_type": "markdown",
   "metadata": {},
   "source": [
    "Obtengamos el año del comentario del contenido de la columna 'posted' y guardemoslo en una nueva columna 'year'"
   ]
  },
  {
   "cell_type": "code",
   "execution_count": 16,
   "metadata": {},
   "outputs": [],
   "source": [
    "# Verifiquemos el formato de fecha valido de la columna 'posted'\n",
    "# Usando la exresion regular 'Posted |,|\\.' podemos verificar la forma en la que esta escrita la \n",
    "# fecha. Estamos buscando un texto como por ejemplo:\n",
    "#              Posted xxx, yyyy.\n",
    "# En donde yyyy sera el año\n",
    "dfUnion['posted'] = pd.to_datetime(\n",
    "    dfUnion['posted'].astype(str).str.replace(r'Posted |,|\\.', '', regex = True), errors = 'coerce')\n",
    "\n",
    "# Crea la columna 'year' a partir de 'posted'\n",
    "dfUnion['year'] = dfUnion['posted'].dt.year.astype('Int64')\n",
    "\n",
    "# La columna posted ya no hace falta y aprovecho para quitar 'id'\n",
    "dfUnion.drop(['posted', 'id'], axis = 1, inplace = True)"
   ]
  },
  {
   "cell_type": "markdown",
   "metadata": {},
   "source": [
    "Quitamos los años que tengan valor NaN "
   ]
  },
  {
   "cell_type": "code",
   "execution_count": 17,
   "metadata": {},
   "outputs": [],
   "source": [
    "dfUnion = dfUnion.dropna(subset = ['year']).reset_index(drop = True)"
   ]
  },
  {
   "cell_type": "code",
   "execution_count": 18,
   "metadata": {},
   "outputs": [
    {
     "data": {
      "text/html": [
       "<div>\n",
       "<style scoped>\n",
       "    .dataframe tbody tr th:only-of-type {\n",
       "        vertical-align: middle;\n",
       "    }\n",
       "\n",
       "    .dataframe tbody tr th {\n",
       "        vertical-align: top;\n",
       "    }\n",
       "\n",
       "    .dataframe thead th {\n",
       "        text-align: right;\n",
       "    }\n",
       "</style>\n",
       "<table border=\"1\" class=\"dataframe\">\n",
       "  <thead>\n",
       "    <tr style=\"text-align: right;\">\n",
       "      <th></th>\n",
       "      <th>item_id</th>\n",
       "      <th>recommend</th>\n",
       "      <th>review</th>\n",
       "      <th>developer</th>\n",
       "      <th>year</th>\n",
       "    </tr>\n",
       "  </thead>\n",
       "  <tbody>\n",
       "    <tr>\n",
       "      <th>0</th>\n",
       "      <td>1250</td>\n",
       "      <td>True</td>\n",
       "      <td>Simple yet with great replayability. In my opi...</td>\n",
       "      <td>Tripwire Interactive</td>\n",
       "      <td>2011</td>\n",
       "    </tr>\n",
       "    <tr>\n",
       "      <th>1</th>\n",
       "      <td>1250</td>\n",
       "      <td>True</td>\n",
       "      <td>Amazing, Non-stop action of blowing stuff to b...</td>\n",
       "      <td>Tripwire Interactive</td>\n",
       "      <td>2015</td>\n",
       "    </tr>\n",
       "    <tr>\n",
       "      <th>2</th>\n",
       "      <td>1250</td>\n",
       "      <td>True</td>\n",
       "      <td>Compared to Left 4 Dead 2, this game REALLY gi...</td>\n",
       "      <td>Tripwire Interactive</td>\n",
       "      <td>2013</td>\n",
       "    </tr>\n",
       "    <tr>\n",
       "      <th>3</th>\n",
       "      <td>1250</td>\n",
       "      <td>True</td>\n",
       "      <td>Jogo ♥♥♥♥.</td>\n",
       "      <td>Tripwire Interactive</td>\n",
       "      <td>2015</td>\n",
       "    </tr>\n",
       "    <tr>\n",
       "      <th>4</th>\n",
       "      <td>1250</td>\n",
       "      <td>True</td>\n",
       "      <td>cara nas imagens esse jogo da pouco de medo ma...</td>\n",
       "      <td>Tripwire Interactive</td>\n",
       "      <td>2014</td>\n",
       "    </tr>\n",
       "    <tr>\n",
       "      <th>...</th>\n",
       "      <td>...</td>\n",
       "      <td>...</td>\n",
       "      <td>...</td>\n",
       "      <td>...</td>\n",
       "      <td>...</td>\n",
       "    </tr>\n",
       "    <tr>\n",
       "      <th>48889</th>\n",
       "      <td>367780</td>\n",
       "      <td>True</td>\n",
       "      <td>The game is a good game. I might understand th...</td>\n",
       "      <td>Soloweb Studios,Ravens Eye Studio</td>\n",
       "      <td>2015</td>\n",
       "    </tr>\n",
       "    <tr>\n",
       "      <th>48890</th>\n",
       "      <td>367780</td>\n",
       "      <td>True</td>\n",
       "      <td>I can understand why Aero's Quest brings out s...</td>\n",
       "      <td>Soloweb Studios,Ravens Eye Studio</td>\n",
       "      <td>2015</td>\n",
       "    </tr>\n",
       "    <tr>\n",
       "      <th>48891</th>\n",
       "      <td>305920</td>\n",
       "      <td>False</td>\n",
       "      <td>i really didn't like it. i'm sorry. slow and b...</td>\n",
       "      <td>ShaunJS</td>\n",
       "      <td>2015</td>\n",
       "    </tr>\n",
       "    <tr>\n",
       "      <th>48892</th>\n",
       "      <td>306040</td>\n",
       "      <td>True</td>\n",
       "      <td>Simple and fun, great art work.</td>\n",
       "      <td>Antanas Marcelionis,Renė Petrulienė</td>\n",
       "      <td>2015</td>\n",
       "    </tr>\n",
       "    <tr>\n",
       "      <th>48893</th>\n",
       "      <td>307130</td>\n",
       "      <td>True</td>\n",
       "      <td>Asteria is a fast paced indie platformer, wrap...</td>\n",
       "      <td>Legend Studio</td>\n",
       "      <td>2015</td>\n",
       "    </tr>\n",
       "  </tbody>\n",
       "</table>\n",
       "<p>48894 rows × 5 columns</p>\n",
       "</div>"
      ],
      "text/plain": [
       "       item_id recommend                                             review  \\\n",
       "0         1250      True  Simple yet with great replayability. In my opi...   \n",
       "1         1250      True  Amazing, Non-stop action of blowing stuff to b...   \n",
       "2         1250      True  Compared to Left 4 Dead 2, this game REALLY gi...   \n",
       "3         1250      True                                         Jogo ♥♥♥♥.   \n",
       "4         1250      True  cara nas imagens esse jogo da pouco de medo ma...   \n",
       "...        ...       ...                                                ...   \n",
       "48889   367780      True  The game is a good game. I might understand th...   \n",
       "48890   367780      True  I can understand why Aero's Quest brings out s...   \n",
       "48891   305920     False  i really didn't like it. i'm sorry. slow and b...   \n",
       "48892   306040      True                    Simple and fun, great art work.   \n",
       "48893   307130      True  Asteria is a fast paced indie platformer, wrap...   \n",
       "\n",
       "                                 developer  year  \n",
       "0                     Tripwire Interactive  2011  \n",
       "1                     Tripwire Interactive  2015  \n",
       "2                     Tripwire Interactive  2013  \n",
       "3                     Tripwire Interactive  2015  \n",
       "4                     Tripwire Interactive  2014  \n",
       "...                                    ...   ...  \n",
       "48889    Soloweb Studios,Ravens Eye Studio  2015  \n",
       "48890    Soloweb Studios,Ravens Eye Studio  2015  \n",
       "48891                              ShaunJS  2015  \n",
       "48892  Antanas Marcelionis,Renė Petrulienė  2015  \n",
       "48893                        Legend Studio  2015  \n",
       "\n",
       "[48894 rows x 5 columns]"
      ]
     },
     "execution_count": 18,
     "metadata": {},
     "output_type": "execute_result"
    }
   ],
   "source": [
    "dfUnion"
   ]
  },
  {
   "cell_type": "markdown",
   "metadata": {},
   "source": [
    "#### Idioma 🇬🇧"
   ]
  },
  {
   "cell_type": "code",
   "execution_count": 19,
   "metadata": {},
   "outputs": [],
   "source": [
    "dfUnionLanguage = dfUnion.copy()"
   ]
  },
  {
   "cell_type": "code",
   "execution_count": 20,
   "metadata": {},
   "outputs": [
    {
     "name": "stdout",
     "output_type": "stream",
     "text": [
      "dfUnion 139903710210960\n",
      "dfUnionLanguage: 139903622484736\n"
     ]
    }
   ],
   "source": [
    "#print('dfUnionLanguage:', id(dfUnionLanguage))\n",
    "print('dfUnion', id(dfUnion))\n",
    "print('dfUnionLanguage:', id(dfUnionLanguage))"
   ]
  },
  {
   "cell_type": "markdown",
   "metadata": {},
   "source": [
    "Agreguemos la columna 'language' que corresponde al idioma del comentario del usuario"
   ]
  },
  {
   "cell_type": "code",
   "execution_count": 21,
   "metadata": {},
   "outputs": [],
   "source": [
    "dfUnionLanguage = joinLanguage(dfUnionLanguage, 'review')\n"
   ]
  },
  {
   "cell_type": "markdown",
   "metadata": {},
   "source": [
    "De no ser posible este análisis por estar ausente la reseña escrita, debe tomar el valor de 1."
   ]
  },
  {
   "cell_type": "code",
   "execution_count": 22,
   "metadata": {},
   "outputs": [
    {
     "name": "stdout",
     "output_type": "stream",
     "text": [
      "Reseñas nulas: 391\n",
      "Reseñas nulas despues de la conversion: 0\n"
     ]
    }
   ],
   "source": [
    "print('Reseñas nulas:',dfUnionLanguage['language'].isnull().sum())\n",
    "dfUnionLanguage['language'].fillna(1, inplace=True)\n",
    "print('Reseñas nulas despues de la conversion:',dfUnionLanguage['language'].isnull().sum())"
   ]
  },
  {
   "cell_type": "markdown",
   "metadata": {},
   "source": [
    "¿Cual es el idioma que mas se repite?"
   ]
  },
  {
   "cell_type": "code",
   "execution_count": 23,
   "metadata": {},
   "outputs": [
    {
     "data": {
      "text/plain": [
       "language\n",
       "en    39387\n",
       "pt     1539\n",
       "es      913\n",
       "de      831\n",
       "so      707\n",
       "Name: count, dtype: int64"
      ]
     },
     "execution_count": 23,
     "metadata": {},
     "output_type": "execute_result"
    }
   ],
   "source": [
    "dfUnionLanguage['language'].value_counts().head()"
   ]
  },
  {
   "cell_type": "markdown",
   "metadata": {},
   "source": [
    "Nos quedaremos con 'en'"
   ]
  },
  {
   "cell_type": "code",
   "execution_count": 24,
   "metadata": {},
   "outputs": [],
   "source": [
    "# Borramos los comentarios que no estan en ingles y los que tienen valor NaN\n",
    "dfUnionLanguage = dfUnionLanguage.loc[\n",
    "      (dfUnionLanguage['language'] == 'en')\n",
    "      #(dfUnionLanguage['language'].notna()) & (dfUnionLanguage['language'] == 'en')\n",
    "    ].reset_index(drop = True)\n",
    "# Todo quedo en ingles asi que es redundante la columna 'language'\n",
    "dfUnionLanguage.drop('language', axis = 1, inplace = True)"
   ]
  },
  {
   "cell_type": "code",
   "execution_count": 25,
   "metadata": {},
   "outputs": [
    {
     "name": "stdout",
     "output_type": "stream",
     "text": [
      "<class 'pandas.core.frame.DataFrame'>\n",
      "RangeIndex: 39387 entries, 0 to 39386\n",
      "Data columns (total 5 columns):\n",
      " #   Column     Non-Null Count  Dtype \n",
      "---  ------     --------------  ----- \n",
      " 0   item_id    39387 non-null  int64 \n",
      " 1   recommend  39387 non-null  object\n",
      " 2   review     39387 non-null  object\n",
      " 3   developer  39387 non-null  object\n",
      " 4   year       39387 non-null  Int64 \n",
      "dtypes: Int64(1), int64(1), object(3)\n",
      "memory usage: 1.5+ MB\n"
     ]
    }
   ],
   "source": [
    "dfUnionLanguage.info()"
   ]
  },
  {
   "cell_type": "markdown",
   "metadata": {},
   "source": [
    "Proceso de limpieza de la columna 'review'"
   ]
  },
  {
   "cell_type": "code",
   "execution_count": 26,
   "metadata": {},
   "outputs": [],
   "source": [
    "# Cambiemos todo a minusculas para evitar ambiguedades en las palabras.\n",
    "dfUnionLanguage.loc[:, 'review'] = dfUnionLanguage['review'].str.lower()\n",
    "\n",
    "# Fuera los caracteres especiales y signos de puntuacion.\n",
    "dfUnionLanguage['review'] = dfUnionLanguage['review'].replace('[^A-Za-z0-9\\s]+', '', regex = True)\n",
    "dfUnionLanguage.loc[:, 'review'] = dfUnionLanguage['review'].str.replace('[^\\w\\s]', '', regex = True)"
   ]
  },
  {
   "cell_type": "markdown",
   "metadata": {},
   "source": [
    "#### Analisis de sentimiento 🫶"
   ]
  },
  {
   "cell_type": "code",
   "execution_count": 27,
   "metadata": {},
   "outputs": [],
   "source": [
    "def sentimentAnalysis(df):\n",
    "    analyzer = SentimentIntensityAnalyzer()\n",
    "\n",
    "    # Calcular las puntuaciones de sentimiento a cada texto en la columna 'review'\n",
    "    # Creamos la columna 'compoundScore' para guardad el calculo\n",
    "    df['compoundScore'] = df['review'].apply(\n",
    "        lambda review: analyzer.polarity_scores(review)['compound'])\n",
    "    # Reflejamos en la nueva columna 'sentimentAnalysis' la escala '0' si es malo,\n",
    "    # '1' si es neutral y '2' si es positivo\n",
    "    df['sentimentAnalysis'] = df['compoundScore'].apply(\n",
    "        lambda score: 0 if score < 0 else (1 if score == 0 else 2))\n",
    "\n",
    "    # Conteo de reviews por score\n",
    "    scoreCounts = df['sentimentAnalysis'].value_counts()\n",
    "\n",
    "    # Conteo de reviews en blanco\n",
    "    blankReviewsCount = df['review'].isnull().sum()\n",
    "\n",
    "    # Total de reviews\n",
    "    totalReviews = len(df)\n",
    "\n",
    "    dataset = {\n",
    "      # Conteo de reviews por score\n",
    "      'scoreCounts': scoreCounts,\n",
    "\n",
    "      # Conteo de reviews en blanco\n",
    "      'blankReviewsCount': blankReviewsCount,\n",
    "\n",
    "      # Calcular porcentajes\n",
    "      'scorePercentages': (scoreCounts / totalReviews * 100).round(2),\n",
    "      'blankReviewsPercentage': (blankReviewsCount / totalReviews * 100).round(2)\n",
    "    }\n",
    "     \n",
    "    # Ya no necesitaremos las columnas 'review' y 'compoundScore'\n",
    "    df.drop(['review','compoundScore'], axis = 1, inplace = True)  \n",
    "\n",
    "    #return df, dataset"
   ]
  },
  {
   "cell_type": "code",
   "execution_count": 28,
   "metadata": {},
   "outputs": [],
   "source": [
    "# Ejecutamos el analisis de sentimiento y lo incorporamos como una nueva columna al dataframe\n",
    "sentimentAnalysis(dfUnionLanguage)\n",
    "#dfUserReviews, d = sentimentAnalysis(dfUnionLanguage)"
   ]
  },
  {
   "cell_type": "code",
   "execution_count": 29,
   "metadata": {},
   "outputs": [
    {
     "data": {
      "text/html": [
       "<div>\n",
       "<style scoped>\n",
       "    .dataframe tbody tr th:only-of-type {\n",
       "        vertical-align: middle;\n",
       "    }\n",
       "\n",
       "    .dataframe tbody tr th {\n",
       "        vertical-align: top;\n",
       "    }\n",
       "\n",
       "    .dataframe thead th {\n",
       "        text-align: right;\n",
       "    }\n",
       "</style>\n",
       "<table border=\"1\" class=\"dataframe\">\n",
       "  <thead>\n",
       "    <tr style=\"text-align: right;\">\n",
       "      <th></th>\n",
       "      <th>item_id</th>\n",
       "      <th>recommend</th>\n",
       "      <th>developer</th>\n",
       "      <th>year</th>\n",
       "      <th>sentimentAnalysis</th>\n",
       "    </tr>\n",
       "  </thead>\n",
       "  <tbody>\n",
       "    <tr>\n",
       "      <th>0</th>\n",
       "      <td>1250</td>\n",
       "      <td>True</td>\n",
       "      <td>Tripwire Interactive</td>\n",
       "      <td>2011</td>\n",
       "      <td>2</td>\n",
       "    </tr>\n",
       "    <tr>\n",
       "      <th>1</th>\n",
       "      <td>1250</td>\n",
       "      <td>True</td>\n",
       "      <td>Tripwire Interactive</td>\n",
       "      <td>2015</td>\n",
       "      <td>2</td>\n",
       "    </tr>\n",
       "    <tr>\n",
       "      <th>2</th>\n",
       "      <td>1250</td>\n",
       "      <td>True</td>\n",
       "      <td>Tripwire Interactive</td>\n",
       "      <td>2013</td>\n",
       "      <td>0</td>\n",
       "    </tr>\n",
       "    <tr>\n",
       "      <th>3</th>\n",
       "      <td>1250</td>\n",
       "      <td>True</td>\n",
       "      <td>Tripwire Interactive</td>\n",
       "      <td>2010</td>\n",
       "      <td>2</td>\n",
       "    </tr>\n",
       "    <tr>\n",
       "      <th>4</th>\n",
       "      <td>1250</td>\n",
       "      <td>True</td>\n",
       "      <td>Tripwire Interactive</td>\n",
       "      <td>2015</td>\n",
       "      <td>0</td>\n",
       "    </tr>\n",
       "    <tr>\n",
       "      <th>...</th>\n",
       "      <td>...</td>\n",
       "      <td>...</td>\n",
       "      <td>...</td>\n",
       "      <td>...</td>\n",
       "      <td>...</td>\n",
       "    </tr>\n",
       "    <tr>\n",
       "      <th>39382</th>\n",
       "      <td>367780</td>\n",
       "      <td>True</td>\n",
       "      <td>Soloweb Studios,Ravens Eye Studio</td>\n",
       "      <td>2015</td>\n",
       "      <td>2</td>\n",
       "    </tr>\n",
       "    <tr>\n",
       "      <th>39383</th>\n",
       "      <td>367780</td>\n",
       "      <td>True</td>\n",
       "      <td>Soloweb Studios,Ravens Eye Studio</td>\n",
       "      <td>2015</td>\n",
       "      <td>2</td>\n",
       "    </tr>\n",
       "    <tr>\n",
       "      <th>39384</th>\n",
       "      <td>305920</td>\n",
       "      <td>False</td>\n",
       "      <td>ShaunJS</td>\n",
       "      <td>2015</td>\n",
       "      <td>0</td>\n",
       "    </tr>\n",
       "    <tr>\n",
       "      <th>39385</th>\n",
       "      <td>306040</td>\n",
       "      <td>True</td>\n",
       "      <td>Antanas Marcelionis,Renė Petrulienė</td>\n",
       "      <td>2015</td>\n",
       "      <td>2</td>\n",
       "    </tr>\n",
       "    <tr>\n",
       "      <th>39386</th>\n",
       "      <td>307130</td>\n",
       "      <td>True</td>\n",
       "      <td>Legend Studio</td>\n",
       "      <td>2015</td>\n",
       "      <td>2</td>\n",
       "    </tr>\n",
       "  </tbody>\n",
       "</table>\n",
       "<p>39387 rows × 5 columns</p>\n",
       "</div>"
      ],
      "text/plain": [
       "       item_id recommend                            developer  year  \\\n",
       "0         1250      True                 Tripwire Interactive  2011   \n",
       "1         1250      True                 Tripwire Interactive  2015   \n",
       "2         1250      True                 Tripwire Interactive  2013   \n",
       "3         1250      True                 Tripwire Interactive  2010   \n",
       "4         1250      True                 Tripwire Interactive  2015   \n",
       "...        ...       ...                                  ...   ...   \n",
       "39382   367780      True    Soloweb Studios,Ravens Eye Studio  2015   \n",
       "39383   367780      True    Soloweb Studios,Ravens Eye Studio  2015   \n",
       "39384   305920     False                              ShaunJS  2015   \n",
       "39385   306040      True  Antanas Marcelionis,Renė Petrulienė  2015   \n",
       "39386   307130      True                        Legend Studio  2015   \n",
       "\n",
       "       sentimentAnalysis  \n",
       "0                      2  \n",
       "1                      2  \n",
       "2                      0  \n",
       "3                      2  \n",
       "4                      0  \n",
       "...                  ...  \n",
       "39382                  2  \n",
       "39383                  2  \n",
       "39384                  0  \n",
       "39385                  2  \n",
       "39386                  2  \n",
       "\n",
       "[39387 rows x 5 columns]"
      ]
     },
     "execution_count": 29,
     "metadata": {},
     "output_type": "execute_result"
    }
   ],
   "source": [
    "dfUnionLanguage"
   ]
  },
  {
   "cell_type": "code",
   "execution_count": 30,
   "metadata": {},
   "outputs": [
    {
     "name": "stdout",
     "output_type": "stream",
     "text": [
      "<class 'pandas.core.frame.DataFrame'>\n",
      "RangeIndex: 39387 entries, 0 to 39386\n",
      "Data columns (total 5 columns):\n",
      " #   Column             Non-Null Count  Dtype \n",
      "---  ------             --------------  ----- \n",
      " 0   item_id            39387 non-null  int64 \n",
      " 1   recommend          39387 non-null  object\n",
      " 2   developer          39387 non-null  object\n",
      " 3   year               39387 non-null  Int64 \n",
      " 4   sentimentAnalysis  39387 non-null  int64 \n",
      "dtypes: Int64(1), int64(2), object(2)\n",
      "memory usage: 1.5+ MB\n"
     ]
    }
   ],
   "source": [
    "dfUnionLanguage.info()"
   ]
  },
  {
   "cell_type": "markdown",
   "metadata": {},
   "source": [
    "#### Save 💾"
   ]
  },
  {
   "cell_type": "markdown",
   "metadata": {},
   "source": [
    "En este punto el dataframe df esta listo para ser la fuente de datos de las funciones 'best_developer_year' y<br>'developer_reviews_analysis()' que responderan desde la API. Siendo asi, tomaremos una instantanea del estado actual<br>de los datos y los persistiremos en un CSV. "
   ]
  },
  {
   "cell_type": "code",
   "execution_count": 31,
   "metadata": {},
   "outputs": [],
   "source": [
    "# Guardar el DataFrame en un archivo .csv comprimido con gzip\n",
    "df.to_parquet('../datasource/render/user_reviews_2Api.parquet')\n",
    "#dfUnionLanguage.to_csv('../datasource/render/user_reviews_2Api.csv.gz', compression='gzip', index = False)"
   ]
  },
  {
   "cell_type": "markdown",
   "metadata": {},
   "source": [
    "#### LA CONSULTA PARA LA API"
   ]
  },
  {
   "cell_type": "code",
   "execution_count": 32,
   "metadata": {},
   "outputs": [],
   "source": [
    "def best_developer_year(year: int) -> pd.DataFrame:\n",
    "  \"\"\"\n",
    "  Devuelve el top 3 de desarrolladores con juegos mas recomendados por usuarios para el año dado.\n",
    "  Params:\n",
    "    year (int): El año a considerar.\n",
    "  Returns:\n",
    "    pd.DataFrame: Un DataFrame con las columnas 'developer' y 'recomendaciones', ordenado por\n",
    "    'recomendaciones' de forma descendente y limitado a las 3 primeras filas.\n",
    "  \"\"\"\n",
    "  if not isinstance(year, int):\n",
    "    return print(f'{year} fuera de rango')\n",
    "  # Filtrar los juegos recomendados para el año dado\n",
    "  juegosRecomendados = dfUnionLanguage[\n",
    "      (dfUnionLanguage['year'] == year) &\n",
    "      (dfUnionLanguage['recommend'] == True) &\n",
    "      (dfUnionLanguage['sentimentAnalysis'] == 2)\n",
    "  ]  \n",
    "  \n",
    "  # Contar las recomendaciones por desarrollador\n",
    "  recomendacionesXDesarrollador = (\n",
    "      juegosRecomendados.groupby('developer')['item_id'].nunique()\n",
    "  )  \n",
    "  \n",
    "  # Convertir a DataFrame y ordenar por recomendaciones de forma descendente\n",
    "  topDesarrolladores = recomendacionesXDesarrollador.to_frame(name = 'recomendaciones').reset_index()\n",
    "  topDesarrolladores = topDesarrolladores.sort_values(by = 'recomendaciones', ascending = False)  \n",
    "\n",
    "  topDesarrolladoresLista = []\n",
    "  for i in range(0, 3):\n",
    "      puesto = f\"Puesto {i + 1}\"\n",
    "      try:\n",
    "        desarrollador = topDesarrolladores.loc[i, 'developer']\n",
    "      except Exception as e:\n",
    "         return print(f'{year} fuera de rango\\n{e}')\n",
    "      topDesarrolladoresLista.append({puesto: desarrollador})\n",
    "  return topDesarrolladoresLista"
   ]
  },
  {
   "cell_type": "code",
   "execution_count": 33,
   "metadata": {},
   "outputs": [
    {
     "data": {
      "text/plain": [
       "[{'Puesto 1': '1C Company'},\n",
       " {'Puesto 2': '1C: Maddox Games'},\n",
       " {'Puesto 3': 'BioWare'}]"
      ]
     },
     "execution_count": 33,
     "metadata": {},
     "output_type": "execute_result"
    }
   ],
   "source": [
    "best_developer_year(2010)"
   ]
  },
  {
   "cell_type": "code",
   "execution_count": 34,
   "metadata": {},
   "outputs": [],
   "source": [
    "def developer_reviews_analysis(developer: str) -> dict:\n",
    "    \"\"\"Devuelve un diccionario con el nombre del desarrollador como llave y una lista con la\n",
    "    cantidad de reseñas negativas y positivas del desarrollador.\n",
    "    Params:\n",
    "        developer (str): El nombre del desarrollador.\n",
    "    Returns:\n",
    "        dict: Un diccionario con la siguiente estructura: {'nombre_desarrollador': ['Negative = X', 'Positive = Y']}\n",
    "    \"\"\"\n",
    "    # Filtrar las reseñas del desarrollador especificado\n",
    "    developerReviews = dfUnionLanguage[dfUnionLanguage['developer'] == developer]\n",
    "\n",
    "    # Contar las reseñas positivas y negativas\n",
    "    negativeCount = developerReviews[developerReviews['sentimentAnalysis'] == 0].shape[0]\n",
    "    positiveCount = developerReviews[developerReviews['sentimentAnalysis'] == 2].shape[0]\n",
    "\n",
    "    # Crear el diccionario de resultados\n",
    "    resultado = {\n",
    "        developer: [f\"Negative = {negativeCount}\", f\"Positive = {positiveCount}\"]\n",
    "    }\n",
    "\n",
    "    return resultado\n"
   ]
  },
  {
   "cell_type": "code",
   "execution_count": 35,
   "metadata": {},
   "outputs": [
    {
     "data": {
      "text/plain": [
       "{'Tripwire Interactive': ['Negative = 83', 'Positive = 244']}"
      ]
     },
     "execution_count": 35,
     "metadata": {},
     "output_type": "execute_result"
    }
   ],
   "source": [
    "developer_reviews_analysis('Tripwire Interactive')"
   ]
  }
 ],
 "metadata": {
  "kernelspec": {
   "display_name": "Python 3",
   "language": "python",
   "name": "python3"
  },
  "language_info": {
   "codemirror_mode": {
    "name": "ipython",
    "version": 3
   },
   "file_extension": ".py",
   "mimetype": "text/x-python",
   "name": "python",
   "nbconvert_exporter": "python",
   "pygments_lexer": "ipython3",
   "version": "3.10.12"
  }
 },
 "nbformat": 4,
 "nbformat_minor": 2
}
