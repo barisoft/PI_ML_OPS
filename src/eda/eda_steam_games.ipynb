{
 "cells": [
  {
   "cell_type": "code",
   "execution_count": 2,
   "metadata": {},
   "outputs": [],
   "source": [
    "import pandas as pd\n",
    "import numpy as np\n",
    "import gzip\n",
    "import json\n",
    "import sys\n",
    "import seaborn as sns\n",
    "import ast\n",
    "import warnings\n",
    "warnings.filterwarnings('ignore')\n",
    "\n",
    "from sklearn.decomposition import PCA\n",
    "from scipy.stats import zscore\n",
    "from pyod.models.mad import MAD\n",
    "\n",
    "sys.path.append(\"../utils/\")\n",
    "from myFunctions import jsonGzipToDataframe, jsonGzipToDataframe2, toDommyColumns"
   ]
  },
  {
   "cell_type": "markdown",
   "metadata": {},
   "source": [
    "Guardemos el CSV comprimido dentro de un dataframe Pandas"
   ]
  },
  {
   "cell_type": "code",
   "execution_count": 3,
   "metadata": {},
   "outputs": [],
   "source": [
    "df = pd.read_csv('../datasource/steam_games_chewed.csv.gz')"
   ]
  },
  {
   "cell_type": "code",
   "execution_count": null,
   "metadata": {},
   "outputs": [],
   "source": [
    "df.info()"
   ]
  },
  {
   "cell_type": "markdown",
   "metadata": {},
   "source": [
    "#### TAGS 🔎"
   ]
  },
  {
   "cell_type": "markdown",
   "metadata": {},
   "source": [
    "Los NaN son de tipo float\n",
    "¿Cuánto representarán del total de valores en la columna 'tags'?"
   ]
  },
  {
   "cell_type": "code",
   "execution_count": 4,
   "metadata": {},
   "outputs": [
    {
     "name": "stdout",
     "output_type": "stream",
     "text": [
      "String son 31963\n",
      "NaN son 162\n"
     ]
    }
   ],
   "source": [
    "# Crear un nuevo DataFrame solo con las filas que tienen tipo string y no NaN Float en la columna\n",
    "# 'tags'\n",
    "dfSinTagsNaN = df[df['tags'].apply(lambda x: isinstance(x, str))]\n",
    "dfConTagsNaN = df[df['tags'].apply(lambda x: isinstance(x, float))]\n",
    "print('String son', dfSinTagsNaN.shape[0])\n",
    "print('NaN son', dfConTagsNaN.shape[0])"
   ]
  },
  {
   "cell_type": "markdown",
   "metadata": {},
   "source": [
    "Entonces nos quedearemos con los juegos cuyos 'tags' no sea uno de esos NaN Float"
   ]
  },
  {
   "cell_type": "code",
   "execution_count": 5,
   "metadata": {},
   "outputs": [
    {
     "name": "stdout",
     "output_type": "stream",
     "text": [
      "<class 'pandas.core.frame.DataFrame'>\n",
      "RangeIndex: 31963 entries, 0 to 31962\n",
      "Data columns (total 13 columns):\n",
      " #   Column        Non-Null Count  Dtype  \n",
      "---  ------        --------------  -----  \n",
      " 0   publisher     23961 non-null  object \n",
      " 1   genres        28820 non-null  object \n",
      " 2   app_name      31962 non-null  object \n",
      " 3   title         29915 non-null  object \n",
      " 4   url           31963 non-null  object \n",
      " 5   release_date  29898 non-null  object \n",
      " 6   tags          31963 non-null  object \n",
      " 7   reviews_url   31963 non-null  object \n",
      " 8   specs         31303 non-null  object \n",
      " 9   price         30618 non-null  float64\n",
      " 10  early_access  31963 non-null  bool   \n",
      " 11  id            31963 non-null  int64  \n",
      " 12  developer     28693 non-null  object \n",
      "dtypes: bool(1), float64(1), int64(1), object(10)\n",
      "memory usage: 3.0+ MB\n"
     ]
    }
   ],
   "source": [
    "df = dfSinTagsNaN.reset_index(drop = True)\n",
    "df.info()"
   ]
  },
  {
   "cell_type": "markdown",
   "metadata": {},
   "source": [
    "Obtengamos las columnas dummies de la columna 'tags'"
   ]
  },
  {
   "cell_type": "code",
   "execution_count": 6,
   "metadata": {},
   "outputs": [],
   "source": [
    "# Pero antes sustituyamos los NaN de la columna 'tags' por listas vacias\n",
    "df['tags'] = df['tags'].fillna('[]')\n",
    "\n",
    "# Obtengamos las columnas dummies de la columna 'tags'\n",
    "dummyColumnsTags = toDommyColumns(df,'tags')\n",
    "\n",
    "# Seamos consistentes con los nombres de columnas\n",
    "dummyColumnsTags.columns = dummyColumnsTags.columns.str.lower().str.replace(' ', '_') \n",
    "\n",
    "print(f'Ahora tenemos {dummyColumnsTags.shape[1]} columnas dummies')"
   ]
  },
  {
   "cell_type": "markdown",
   "metadata": {},
   "source": [
    "Veamos cuáles son las columnas dummies 'tags' más valiosas"
   ]
  },
  {
   "cell_type": "code",
   "execution_count": 8,
   "metadata": {},
   "outputs": [
    {
     "data": {
      "text/plain": [
       "tags_indie               0.551137\n",
       "tags_action              0.406783\n",
       "tags_adventure           0.307449\n",
       "tags_casual              0.304571\n",
       "tags_simulation          0.241780\n",
       "tags_strategy            0.236711\n",
       "tags_rpg                 0.185152\n",
       "tags_singleplayer        0.135907\n",
       "tags_free_to_play        0.075181\n",
       "tags_multiplayer         0.074555\n",
       "tags_great_soundtrack    0.069893\n",
       "tags_puzzle              0.066014\n",
       "tags_early_access        0.060914\n",
       "tags_2d                  0.060852\n",
       "tags_atmospheric         0.060476\n",
       "tags_vr                  0.056190\n",
       "tags_sports              0.049964\n",
       "tags_platformer          0.045334\n",
       "tags_story_rich          0.045177\n",
       "tags_sci-fi              0.043394\n",
       "dtype: float64"
      ]
     },
     "execution_count": 8,
     "metadata": {},
     "output_type": "execute_result"
    }
   ],
   "source": [
    "# Sumemos los valores de la columna 'tags', los ordenamos en orden descendente, seleccionamos los 20\n",
    "# valores más altos y luego los normalizamos dividiéndolos por la longitud del DataFrame original\n",
    "dummyColumnsTags.sum().sort_values(ascending = False).head(20) / len(dummyColumnsTags)"
   ]
  },
  {
   "cell_type": "markdown",
   "metadata": {},
   "source": [
    "Nos quedaremos con las columnas cuyo peso sea >= 0,07"
   ]
  },
  {
   "cell_type": "code",
   "execution_count": 9,
   "metadata": {},
   "outputs": [],
   "source": [
    "tagsColumns = ['tags_indie', 'tags_action', 'tags_adventure', 'tags_casual', 'tags_simulation']\n",
    "tagsColumns += ['tags_strategy', 'tags_rpg', 'tags_singleplayer', 'tags_free_to_play', 'tags_multiplayer']\n",
    "dummyTags = dummyColumnsTags[tagsColumns]"
   ]
  },
  {
   "cell_type": "code",
   "execution_count": 10,
   "metadata": {},
   "outputs": [
    {
     "name": "stdout",
     "output_type": "stream",
     "text": [
      "<class 'pandas.core.frame.DataFrame'>\n",
      "Index: 31963 entries, 0 to 31962\n",
      "Data columns (total 10 columns):\n",
      " #   Column             Non-Null Count  Dtype\n",
      "---  ------             --------------  -----\n",
      " 0   tags_indie         31963 non-null  int64\n",
      " 1   tags_action        31963 non-null  int64\n",
      " 2   tags_adventure     31963 non-null  int64\n",
      " 3   tags_casual        31963 non-null  int64\n",
      " 4   tags_simulation    31963 non-null  int64\n",
      " 5   tags_strategy      31963 non-null  int64\n",
      " 6   tags_rpg           31963 non-null  int64\n",
      " 7   tags_singleplayer  31963 non-null  int64\n",
      " 8   tags_free_to_play  31963 non-null  int64\n",
      " 9   tags_multiplayer   31963 non-null  int64\n",
      "dtypes: int64(10)\n",
      "memory usage: 2.7 MB\n"
     ]
    }
   ],
   "source": [
    "dummyTags.info()"
   ]
  },
  {
   "cell_type": "code",
   "execution_count": null,
   "metadata": {},
   "outputs": [],
   "source": [
    "dummyTags.head()"
   ]
  },
  {
   "cell_type": "code",
   "execution_count": 11,
   "metadata": {},
   "outputs": [],
   "source": [
    "# Insertemos las columnas dummies al dataframe original\n",
    "df = pd.concat([df, dummyTags], axis = 1)"
   ]
  },
  {
   "cell_type": "code",
   "execution_count": null,
   "metadata": {},
   "outputs": [],
   "source": [
    "df.info()"
   ]
  },
  {
   "cell_type": "code",
   "execution_count": null,
   "metadata": {},
   "outputs": [],
   "source": [
    "df.head(3)"
   ]
  },
  {
   "cell_type": "markdown",
   "metadata": {},
   "source": [
    "#### GENRES 🔎"
   ]
  },
  {
   "cell_type": "markdown",
   "metadata": {},
   "source": [
    "Los NaN son de tipo float\n",
    "¿Cuánto representarán del total de valores en la columna 'genres'?"
   ]
  },
  {
   "cell_type": "code",
   "execution_count": 12,
   "metadata": {},
   "outputs": [
    {
     "name": "stdout",
     "output_type": "stream",
     "text": [
      "String son 28820\n",
      "NaN son 3143\n"
     ]
    }
   ],
   "source": [
    "# Crear un nuevo DataFrame solo con las filas que tienen tipo string y no NaN Float en la columna\n",
    "# 'genres'\n",
    "dfSinGenresNaN = df[df['genres'].apply(lambda x: isinstance(x, str))]\n",
    "dfConGenresNaN = df[df['genres'].apply(lambda x: isinstance(x, float))]\n",
    "print('String son', dfSinGenresNaN.shape[0])\n",
    "print('NaN son', dfConGenresNaN.shape[0])"
   ]
  },
  {
   "cell_type": "markdown",
   "metadata": {},
   "source": [
    "Entonces nos quedearemos con los juegos cuyos 'genres' no sea uno de esos NaN Float"
   ]
  },
  {
   "cell_type": "code",
   "execution_count": 13,
   "metadata": {},
   "outputs": [
    {
     "name": "stdout",
     "output_type": "stream",
     "text": [
      "<class 'pandas.core.frame.DataFrame'>\n",
      "RangeIndex: 28820 entries, 0 to 28819\n",
      "Data columns (total 23 columns):\n",
      " #   Column             Non-Null Count  Dtype  \n",
      "---  ------             --------------  -----  \n",
      " 0   publisher          23910 non-null  object \n",
      " 1   genres             28820 non-null  object \n",
      " 2   app_name           28819 non-null  object \n",
      " 3   title              28819 non-null  object \n",
      " 4   url                28820 non-null  object \n",
      " 5   release_date       28802 non-null  object \n",
      " 6   tags               28820 non-null  object \n",
      " 7   reviews_url        28820 non-null  object \n",
      " 8   specs              28536 non-null  object \n",
      " 9   price              27601 non-null  float64\n",
      " 10  early_access       28820 non-null  bool   \n",
      " 11  id                 28820 non-null  int64  \n",
      " 12  developer          28650 non-null  object \n",
      " 13  tags_indie         28820 non-null  int64  \n",
      " 14  tags_action        28820 non-null  int64  \n",
      " 15  tags_adventure     28820 non-null  int64  \n",
      " 16  tags_casual        28820 non-null  int64  \n",
      " 17  tags_simulation    28820 non-null  int64  \n",
      " 18  tags_strategy      28820 non-null  int64  \n",
      " 19  tags_rpg           28820 non-null  int64  \n",
      " 20  tags_singleplayer  28820 non-null  int64  \n",
      " 21  tags_free_to_play  28820 non-null  int64  \n",
      " 22  tags_multiplayer   28820 non-null  int64  \n",
      "dtypes: bool(1), float64(1), int64(11), object(10)\n",
      "memory usage: 4.9+ MB\n"
     ]
    }
   ],
   "source": [
    "df = dfSinGenresNaN.reset_index(drop = True)\n",
    "df.info()"
   ]
  },
  {
   "cell_type": "markdown",
   "metadata": {},
   "source": [
    "Obtengamos las columnas dummies de la columna 'genres'"
   ]
  },
  {
   "cell_type": "code",
   "execution_count": 14,
   "metadata": {},
   "outputs": [],
   "source": [
    "# Obtengamos las columnas dummies de la columna 'genres'\n",
    "dummyColumnsGenres = toDommyColumns(df, 'genres')\n",
    "\n",
    "# Seamos consistentes con los nombres de columnas\n",
    "dummyColumnsGenres.columns = dummyColumnsGenres.columns.str.lower().str.replace(' ', '_') "
   ]
  },
  {
   "cell_type": "code",
   "execution_count": null,
   "metadata": {},
   "outputs": [],
   "source": [
    "print(f'Ahora tenemos {dummyColumnsGenres.shape[1]} columnas dummies')"
   ]
  },
  {
   "cell_type": "markdown",
   "metadata": {},
   "source": [
    "Veamos cuáles son las columnas dummies 'genres' más valiosas"
   ]
  },
  {
   "cell_type": "code",
   "execution_count": 15,
   "metadata": {},
   "outputs": [
    {
     "data": {
      "text/plain": [
       "genres_indie                        0.549757\n",
       "genres_action                       0.392540\n",
       "genres_casual                       0.286849\n",
       "genres_adventure                    0.285704\n",
       "genres_strategy                     0.241256\n",
       "genres_simulation                   0.232200\n",
       "genres_rpg                          0.190042\n",
       "genres_free_to_play                 0.070472\n",
       "genres_early_access                 0.050729\n",
       "genres_sports                       0.043581\n",
       "genres_massively_multiplayer        0.038446\n",
       "genres_racing                       0.037578\n",
       "genres_design_&amp;_illustration    0.015961\n",
       "genres_utilities                    0.011763\n",
       "genres_web_publishing               0.009299\n",
       "genres_animation_&amp;_modeling     0.006350\n",
       "genres_education                    0.004337\n",
       "genres_video_production             0.004025\n",
       "genres_software_training            0.003643\n",
       "genres_audio_production             0.003227\n",
       "dtype: float64"
      ]
     },
     "execution_count": 15,
     "metadata": {},
     "output_type": "execute_result"
    }
   ],
   "source": [
    "# Sumemos los valores de la columna 'genres', los ordenamos en orden descendente, seleccionamos los 20\n",
    "# valores más altos y luego los normalizamos dividiéndolos por la longitud del DataFrame original\n",
    "dummyColumnsGenres.sum().sort_values(ascending = False).head(20) / len(dummyColumnsGenres)"
   ]
  },
  {
   "cell_type": "markdown",
   "metadata": {},
   "source": [
    "Nos quedaremos con las columnas cuyo peso sea >= 0,03"
   ]
  },
  {
   "cell_type": "code",
   "execution_count": 16,
   "metadata": {},
   "outputs": [],
   "source": [
    "genresColumns = ['genres_indie', 'genres_action', 'genres_casual', 'genres_adventure']\n",
    "genresColumns += ['genres_strategy', 'genres_simulation', 'genres_rpg', 'genres_free_to_play']\n",
    "genresColumns += ['genres_early_access', 'genres_sports', 'genres_massively_multiplayer', 'genres_racing']\n",
    "dummyGenres = dummyColumnsGenres[genresColumns]"
   ]
  },
  {
   "cell_type": "code",
   "execution_count": null,
   "metadata": {},
   "outputs": [],
   "source": [
    "dummyGenres"
   ]
  },
  {
   "cell_type": "code",
   "execution_count": null,
   "metadata": {},
   "outputs": [],
   "source": [
    "df.shape"
   ]
  },
  {
   "cell_type": "code",
   "execution_count": 17,
   "metadata": {},
   "outputs": [],
   "source": [
    "# Insertemos las columnas dummies al dataframe original\n",
    "df = pd.concat([df, dummyGenres], axis = 1)"
   ]
  },
  {
   "cell_type": "code",
   "execution_count": null,
   "metadata": {},
   "outputs": [],
   "source": [
    "df.head(3)\n",
    "#df.loc[df['title'] == 'Lost Summoner Kitty']\n",
    "#df.iloc[:, 7:9]"
   ]
  },
  {
   "cell_type": "markdown",
   "metadata": {},
   "source": [
    "#### YEAR 🔎"
   ]
  },
  {
   "cell_type": "markdown",
   "metadata": {},
   "source": [
    "A crear la columna 'year'"
   ]
  },
  {
   "cell_type": "code",
   "execution_count": 18,
   "metadata": {},
   "outputs": [],
   "source": [
    "# Extraer el año de la columna 'release_date' y crear la columna 'year'\n",
    "df['year'] = df['release_date'].str.extract(r'(\\d{4})')"
   ]
  },
  {
   "cell_type": "code",
   "execution_count": 19,
   "metadata": {},
   "outputs": [
    {
     "data": {
      "text/plain": [
       "119"
      ]
     },
     "execution_count": 19,
     "metadata": {},
     "output_type": "execute_result"
    }
   ],
   "source": [
    "# Aplicamos una mascara para marcar los valores NaN y los sumamos por columna\n",
    "df['year'].isna().sum()"
   ]
  },
  {
   "cell_type": "code",
   "execution_count": 20,
   "metadata": {},
   "outputs": [],
   "source": [
    "# Elimina las filas que tienen valor NaN en la columna 'year'\n",
    "df = df.dropna(subset = ['year']).reset_index(drop = True)"
   ]
  },
  {
   "cell_type": "code",
   "execution_count": null,
   "metadata": {},
   "outputs": [],
   "source": [
    "df.info()"
   ]
  },
  {
   "cell_type": "code",
   "execution_count": 21,
   "metadata": {},
   "outputs": [],
   "source": [
    "# Convertimos el año a tipo entero\n",
    "df['year'] = df['year'].astype(int)"
   ]
  },
  {
   "cell_type": "markdown",
   "metadata": {},
   "source": [
    "Ok, está quedando mejor. Parece que las columnas 'url' y 'reviews_url' sobran porque no aportan nada\n",
    "al análisis, vamos a quitarlas\n"
   ]
  },
  {
   "cell_type": "code",
   "execution_count": 22,
   "metadata": {},
   "outputs": [],
   "source": [
    "# Eliminar las columnas 'url' y 'reviews_url'\n",
    "df = df.drop(['url', 'reviews_url'], axis=1)"
   ]
  },
  {
   "cell_type": "markdown",
   "metadata": {},
   "source": [
    "Ya conseguimos el año a partir de la columna 'release_date', vamos a borrarla. Es redundante tener a\n",
    "'genres' y 'tags'<br>porque las desplegamos como dummies, tambien a borrarlas. "
   ]
  },
  {
   "cell_type": "code",
   "execution_count": 23,
   "metadata": {},
   "outputs": [],
   "source": [
    "# Eliminar las columnas 'release_date', 'genres' y 'tags'\n",
    "df = df.drop(['release_date', 'genres', 'tags'], axis=1)"
   ]
  },
  {
   "cell_type": "code",
   "execution_count": null,
   "metadata": {},
   "outputs": [],
   "source": [
    "df.head(3)"
   ]
  },
  {
   "cell_type": "markdown",
   "metadata": {},
   "source": [
    "Los True y False de la columna 'early_access' mejor los cambiamos a unos y ceros respectivamente"
   ]
  },
  {
   "cell_type": "code",
   "execution_count": 24,
   "metadata": {},
   "outputs": [],
   "source": [
    "# Cambiar la columna 'early_access' a tipo entero en el DataFrame 'df'\n",
    "df['early_access'] = df['early_access'].astype(int)"
   ]
  },
  {
   "cell_type": "code",
   "execution_count": null,
   "metadata": {},
   "outputs": [],
   "source": [
    "# Ver el contenido de la columna 'tags' de la primera fila\n",
    "type(df.iloc[0]['early_access'])"
   ]
  },
  {
   "cell_type": "code",
   "execution_count": null,
   "metadata": {},
   "outputs": [],
   "source": [
    "df.info()"
   ]
  },
  {
   "cell_type": "markdown",
   "metadata": {},
   "source": [
    "En este punto el dataframe df esta listo para ser la fuente de datos de cuatro de las cinco funciones que responderan<br>desde la API. Siendo asi, tomaremos una instantanea del estado actual de los datos y los persistiremos en un CSV. "
   ]
  },
  {
   "cell_type": "code",
   "execution_count": 25,
   "metadata": {},
   "outputs": [],
   "source": [
    "# Guardar el DataFrame en un archivo .csv comprimido con gzip\n",
    "df.to_csv('../datasource/steam_games_4Api.csv.gz', compression='gzip', index = False)"
   ]
  },
  {
   "cell_type": "markdown",
   "metadata": {},
   "source": [
    "#### LA CONSULTA PARA LA API"
   ]
  },
  {
   "cell_type": "code",
   "execution_count": null,
   "metadata": {},
   "outputs": [],
   "source": [
    "def developer(desarrollador: str):\n",
    "    '''Devuelve la cantidad de items y porcentaje de contenido Free por año según empresa\n",
    "       desarrolladora\n",
    "    '''\n",
    "    # Filtrar el DataFrame por desarrollador\n",
    "    dfFiltrado = df[df['developer'] == desarrollador]\n",
    "\n",
    "    # Contar la cantidad de items por año\n",
    "    cantidadItems = dfFiltrado.groupby('year').size().reset_index(name = 'Cantidad de Items')\n",
    "\n",
    "    # Calcular el porcentaje de juegos gratuitos por año\n",
    "    dfFiltrado['free'] = (dfFiltrado['tags_free_to_play'] == 1) | (dfFiltrado['price'] == 0)\n",
    "    contenidoFree = dfFiltrado.groupby('year')['free'].mean().reset_index(name = 'Contenido Free')\n",
    "\n",
    "    # Combinar los resultados en un nuevo DataFrame\n",
    "    return cantidadItems.merge(contenidoFree, on = 'year')"
   ]
  },
  {
   "cell_type": "markdown",
   "metadata": {},
   "source": [
    "#### Analisis de sentimientos 🫶"
   ]
  },
  {
   "cell_type": "markdown",
   "metadata": {},
   "source": [
    "Busquemos pistas sobre la presencia de outliers con un histograma"
   ]
  },
  {
   "cell_type": "code",
   "execution_count": null,
   "metadata": {},
   "outputs": [],
   "source": [
    "# Create a histogram using Seaborn\n",
    "g = sns.histplot(data = df, x = 'price')\n",
    "# Add labels\n",
    "g.set_xlabel('Total price per game')"
   ]
  },
  {
   "cell_type": "markdown",
   "metadata": {},
   "source": [
    "En el histograma podemos ver que los datos se concentran por debajo de los 50$ aproximadamente"
   ]
  },
  {
   "cell_type": "markdown",
   "metadata": {},
   "source": [
    "Busquemos pistas sobre la presencia de outliers con un diagrama de caja"
   ]
  },
  {
   "cell_type": "code",
   "execution_count": null,
   "metadata": {},
   "outputs": [],
   "source": [
    "# Create a box plot\n",
    "g = sns.boxplot(data = df, x = 'price')\n",
    "\n",
    "# Add a title and change xlabel\n",
    "g.set_title('Box Plot of Total')\n",
    "g.set_xlabel('Total price per game')"
   ]
  },
  {
   "cell_type": "markdown",
   "metadata": {},
   "source": [
    "En el gráfico de caja podemos ver claramente la presencia de outliers en la columna ‘price’,"
   ]
  },
  {
   "cell_type": "markdown",
   "metadata": {},
   "source": [
    "Ataquemos ahora con Z-Score"
   ]
  },
  {
   "cell_type": "code",
   "execution_count": null,
   "metadata": {},
   "outputs": [],
   "source": [
    "# Calculate z-score for each data point and compute its absolute value\n",
    "z_scores = zscore(df['price'])\n",
    "abs_z_scores = np.abs(z_scores)\n",
    "\n",
    "# Select the outliers using a threshold of 3\n",
    "outliers = df[abs_z_scores > 3]\n",
    "outliers.head()"
   ]
  },
  {
   "cell_type": "code",
   "execution_count": null,
   "metadata": {},
   "outputs": [],
   "source": [
    "# Obtain number of outliers\n",
    "print(f'Number of outliers: {len(outliers)}')"
   ]
  },
  {
   "cell_type": "markdown",
   "metadata": {},
   "source": [
    "Pero no podemos fiarnos de estos 287 porque el método z-score sólo es apropiada para distribuciones normales. Como vimos en el histograma, los datos para la variable ‘price’ están sesgados hacia la derecha por lo que debemos afinar la puntería."
   ]
  },
  {
   "cell_type": "markdown",
   "metadata": {},
   "source": [
    "Busquemos pistas sobre la presencia de outliers con MAD-Z-Score"
   ]
  },
  {
   "cell_type": "code",
   "execution_count": null,
   "metadata": {},
   "outputs": [],
   "source": [
    "# Set threshold to 3.5\n",
    "mad = MAD(threshold = 3.5)\n",
    "\n",
    "# Convert the 'total' column into a 2D numpy array\n",
    "priceReshaped = df['price'].values.reshape(-1, 1)\n",
    "\n",
    "# Generate inline and outlier labels\n",
    "labels = mad.fit(priceReshaped).labels_\n",
    "labels"
   ]
  },
  {
   "cell_type": "code",
   "execution_count": null,
   "metadata": {},
   "outputs": [],
   "source": [
    "# Obtain number of outliers\n",
    "print(f'Number of outliers: {labels.sum()}')"
   ]
  },
  {
   "cell_type": "code",
   "execution_count": null,
   "metadata": {},
   "outputs": [],
   "source": []
  },
  {
   "cell_type": "code",
   "execution_count": null,
   "metadata": {},
   "outputs": [],
   "source": []
  },
  {
   "cell_type": "code",
   "execution_count": null,
   "metadata": {},
   "outputs": [],
   "source": [
    "developer('Poolians.com')\n"
   ]
  },
  {
   "cell_type": "code",
   "execution_count": null,
   "metadata": {},
   "outputs": [],
   "source": []
  },
  {
   "cell_type": "code",
   "execution_count": null,
   "metadata": {},
   "outputs": [],
   "source": [
    "df.info()"
   ]
  }
 ],
 "metadata": {
  "kernelspec": {
   "display_name": "Python 3",
   "language": "python",
   "name": "python3"
  },
  "language_info": {
   "codemirror_mode": {
    "name": "ipython",
    "version": 3
   },
   "file_extension": ".py",
   "mimetype": "text/x-python",
   "name": "python",
   "nbconvert_exporter": "python",
   "pygments_lexer": "ipython3",
   "version": "3.10.12"
  }
 },
 "nbformat": 4,
 "nbformat_minor": 2
}
