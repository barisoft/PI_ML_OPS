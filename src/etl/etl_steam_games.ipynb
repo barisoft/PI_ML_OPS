{
 "cells": [
  {
   "cell_type": "code",
   "execution_count": 1,
   "metadata": {},
   "outputs": [],
   "source": [
    "import sys\n",
    "import warnings\n",
    "warnings.filterwarnings('ignore')\n",
    "\n",
    "sys.path.append(\"../utils/\")\n",
    "from myFunctions import jsonGzipToDataframe, toDommyColumns"
   ]
  },
  {
   "cell_type": "markdown",
   "metadata": {},
   "source": [
    "Extraemos los datos del archivo origina y lo cargamos en un dataframe"
   ]
  },
  {
   "cell_type": "code",
   "execution_count": 2,
   "metadata": {},
   "outputs": [],
   "source": [
    "df = jsonGzipToDataframe('../datasource/steam_games.json.gz')"
   ]
  },
  {
   "cell_type": "code",
   "execution_count": 3,
   "metadata": {},
   "outputs": [
    {
     "name": "stdout",
     "output_type": "stream",
     "text": [
      "<class 'pandas.core.frame.DataFrame'>\n",
      "RangeIndex: 120445 entries, 0 to 120444\n",
      "Data columns (total 13 columns):\n",
      " #   Column        Non-Null Count  Dtype \n",
      "---  ------        --------------  ----- \n",
      " 0   publisher     24083 non-null  object\n",
      " 1   genres        28852 non-null  object\n",
      " 2   app_name      32133 non-null  object\n",
      " 3   title         30085 non-null  object\n",
      " 4   url           32135 non-null  object\n",
      " 5   release_date  30068 non-null  object\n",
      " 6   tags          31972 non-null  object\n",
      " 7   reviews_url   32133 non-null  object\n",
      " 8   specs         31465 non-null  object\n",
      " 9   price         30758 non-null  object\n",
      " 10  early_access  32135 non-null  object\n",
      " 11  id            32133 non-null  object\n",
      " 12  developer     28836 non-null  object\n",
      "dtypes: object(13)\n",
      "memory usage: 11.9+ MB\n"
     ]
    }
   ],
   "source": [
    "df.info()"
   ]
  },
  {
   "cell_type": "markdown",
   "metadata": {},
   "source": [
    "Nos aseguramos de trabajar en otro espacio de memoria para no tener que volver a cargar el JSON"
   ]
  },
  {
   "cell_type": "code",
   "execution_count": 4,
   "metadata": {},
   "outputs": [],
   "source": [
    "# Nos aseguramos de crear un nuevo objeto en memoria usando 'copy()'\n",
    "dfSteamGames = df.copy()"
   ]
  },
  {
   "cell_type": "markdown",
   "metadata": {},
   "source": [
    "#### 🔎 ID"
   ]
  },
  {
   "cell_type": "markdown",
   "metadata": {},
   "source": [
    "Si hay 'id' duplicados nos quedamos con el primero y los demas los eliminamos"
   ]
  },
  {
   "cell_type": "code",
   "execution_count": 5,
   "metadata": {},
   "outputs": [],
   "source": [
    "# Eliminar filas con 'user_id' duplicados\n",
    "dfSteamGames = dfSteamGames.drop_duplicates(['id'], keep = 'first').reset_index(drop = True)"
   ]
  },
  {
   "cell_type": "code",
   "execution_count": 6,
   "metadata": {},
   "outputs": [
    {
     "name": "stdout",
     "output_type": "stream",
     "text": [
      "<class 'pandas.core.frame.DataFrame'>\n",
      "RangeIndex: 32133 entries, 0 to 32132\n",
      "Data columns (total 13 columns):\n",
      " #   Column        Non-Null Count  Dtype \n",
      "---  ------        --------------  ----- \n",
      " 0   publisher     24081 non-null  object\n",
      " 1   genres        28850 non-null  object\n",
      " 2   app_name      32131 non-null  object\n",
      " 3   title         30083 non-null  object\n",
      " 4   url           32132 non-null  object\n",
      " 5   release_date  30066 non-null  object\n",
      " 6   tags          31970 non-null  object\n",
      " 7   reviews_url   32132 non-null  object\n",
      " 8   specs         31463 non-null  object\n",
      " 9   price         30755 non-null  object\n",
      " 10  early_access  32132 non-null  object\n",
      " 11  id            32132 non-null  object\n",
      " 12  developer     28834 non-null  object\n",
      "dtypes: object(13)\n",
      "memory usage: 3.2+ MB\n"
     ]
    }
   ],
   "source": [
    "dfSteamGames.info()"
   ]
  },
  {
   "cell_type": "code",
   "execution_count": 7,
   "metadata": {},
   "outputs": [
    {
     "name": "stdout",
     "output_type": "stream",
     "text": [
      "NameColumn       NaN\n",
      "publisher       8052\n",
      "genres          3283\n",
      "app_name           2\n",
      "title           2050\n",
      "url                1\n",
      "release_date    2067\n",
      "tags             163\n",
      "reviews_url        1\n",
      "specs            670\n",
      "price           1378\n",
      "early_access       1\n",
      "id                 1\n",
      "developer       3299\n",
      "dtype: int64\n"
     ]
    }
   ],
   "source": [
    "# Aplicamos una mascara para marcar los valores NaN y los sumamos por columna\n",
    "print(f'NameColumn       NaN\\n{dfSteamGames.isna().sum()}')"
   ]
  },
  {
   "cell_type": "markdown",
   "metadata": {},
   "source": [
    "Eliminemos los juegos que no tienen 'id'"
   ]
  },
  {
   "cell_type": "code",
   "execution_count": 8,
   "metadata": {},
   "outputs": [],
   "source": [
    "# Elimina las filas que tienen valor NaN en la columna 'id'\n",
    "dfSteamGames = dfSteamGames.dropna(subset = ['id']).reset_index(drop = True)"
   ]
  },
  {
   "cell_type": "markdown",
   "metadata": {},
   "source": [
    "#### 🔎 PRICE"
   ]
  },
  {
   "cell_type": "markdown",
   "metadata": {},
   "source": [
    "Busquemos en la columna 'price' valores que no sean numericos"
   ]
  },
  {
   "cell_type": "code",
   "execution_count": 9,
   "metadata": {},
   "outputs": [
    {
     "data": {
      "text/plain": [
       "array([4.99, 'Free To Play', 'Free to Play', 0.99, 2.99, 3.99, 9.99,\n",
       "       18.99, 29.99, 'Free', 10.99, 1.59, 14.99, 1.99, 59.99, 8.99, 6.99,\n",
       "       7.99, 39.99, 19.99, 7.49, 12.99, 5.99, 2.49, 15.99, 1.25, 24.99,\n",
       "       17.99, 61.99, 3.49, 11.99, 13.99, 'Free Demo', 'Play for Free!',\n",
       "       34.99, 74.76, 1.49, 32.99, 99.99, 14.95, 69.99, 16.99, 79.99,\n",
       "       49.99, 44.99, 13.98, 29.96, 119.99, 109.99, 149.99, 771.71,\n",
       "       'Install Now', 21.99, 89.99, 'Play WARMACHINE: Tactics Demo', 0.98,\n",
       "       139.92, 4.29, 64.99, 'Free Mod', 54.99, 74.99, 'Install Theme',\n",
       "       0.89, 'Third-party', 'Play Now', 299.99, 1.29, 15.0, 5.49, 23.99,\n",
       "       49.0, 20.99, 10.93, 1.39, 'Free HITMAN™ Holiday Pack', 36.99, 4.49,\n",
       "       234.99, 1.95, 199.0, 189.0, 6.66, 27.99, 10.49, 129.99, 179.0,\n",
       "       26.99, 399.99, 31.99, 399.0, 20.0, 40.0, 3.33, 199.99, 22.99,\n",
       "       320.0, 38.85, 71.7, 59.95, 995.0, 27.49, 3.39, 19.95, 499.99,\n",
       "       16.06, 4.68, 131.4, 44.98, 202.76, 0.95, 172.24, 249.99, 2.97,\n",
       "       10.96, 10.0, 30.0, 2.66, 6.48, 19.29, 11.15, 18.9, 2.89,\n",
       "       'Play the Demo', 99.0, 87.94, 599.0, 8.98, 9.69, 0.49, 9.98, 9.95,\n",
       "       'Starting at $499.00', 'Starting at $449.00', 12.89, 6.49, 1.87,\n",
       "       42.99, 41.99, 289.99, 'Free to Try', 23.96, 5.65, 12.0, 13.37,\n",
       "       189.96, 124.99, 'Free Movie', 19.98, 160.91, 'Free to Use'],\n",
       "      dtype=object)"
      ]
     },
     "execution_count": 9,
     "metadata": {},
     "output_type": "execute_result"
    }
   ],
   "source": [
    "dfSteamGames.loc[\n",
    "  ~dfSteamGames['price']. astype(str).\n",
    "  str.isnumeric() & (dfSteamGames['price'].astype(str).str.len() > 3), 'price'\n",
    "].unique()"
   ]
  },
  {
   "cell_type": "code",
   "execution_count": 10,
   "metadata": {},
   "outputs": [],
   "source": [
    "# Crear una lista con valores invalidos a borrar en la columna 'price'\n",
    "invalidValues = ['Free Movie', 'Install Now', 'Install Theme', 'Third-party', 'Play Now']"
   ]
  },
  {
   "cell_type": "code",
   "execution_count": 11,
   "metadata": {},
   "outputs": [],
   "source": [
    "# Crear una lista con valores invalidos a reemplazar en la columna price\n",
    "replaceValues = ['Free', 'Free Demo', 'Free Mod', 'Free to Use', 'Free To Play', 'Free to Play',\n",
    "   'Free to Try', 'Play the Demo', 'Play for Free!', 'Free HITMAN™ Holiday Pack',\n",
    "   'Play WARMACHINE: Tactics Demo']"
   ]
  },
  {
   "cell_type": "markdown",
   "metadata": {},
   "source": [
    "¿Son mucho o pocos los valores invalidos en el precio?"
   ]
  },
  {
   "cell_type": "code",
   "execution_count": 12,
   "metadata": {},
   "outputs": [
    {
     "data": {
      "text/plain": [
       "price\n",
       "Free Movie       1\n",
       "Install Now      1\n",
       "Install Theme    1\n",
       "Third-party      2\n",
       "Play Now         2\n",
       "Name: count, dtype: int64"
      ]
     },
     "execution_count": 12,
     "metadata": {},
     "output_type": "execute_result"
    }
   ],
   "source": [
    "dfSteamGames['price'].value_counts()[invalidValues]"
   ]
  },
  {
   "cell_type": "code",
   "execution_count": 13,
   "metadata": {},
   "outputs": [],
   "source": [
    "# Eliminar las filas que no tengan valores validos en la columna 'price'\n",
    "dfSteamGames = dfSteamGames.loc[~dfSteamGames['price'].isin(invalidValues)].reset_index(drop = True)"
   ]
  },
  {
   "cell_type": "code",
   "execution_count": 14,
   "metadata": {},
   "outputs": [],
   "source": [
    "# Sustituir el precio que contenga 'Free' por 0.00 en la columna 'price'\n",
    "dfSteamGames['price'].replace(replaceValues, 0.00, inplace = True)\n",
    "\n",
    "dfSteamGames['price'].replace(['Starting at $499.00'], 499.00, inplace = True)\n",
    "dfSteamGames['price'].replace(['Starting at $449.00'], 449.00, inplace = True)"
   ]
  },
  {
   "cell_type": "code",
   "execution_count": 15,
   "metadata": {},
   "outputs": [],
   "source": [
    "# Cambiar la columna 'price' a tipo float en el DataFrame 'df'\n",
    "dfSteamGames['price'] = dfSteamGames['price'].astype('float16')"
   ]
  },
  {
   "cell_type": "code",
   "execution_count": 16,
   "metadata": {},
   "outputs": [
    {
     "data": {
      "text/plain": [
       "array([4.9883e+00, 0.0000e+00, 9.9023e-01, 2.9902e+00, 3.9902e+00,\n",
       "       9.9922e+00, 1.8984e+01, 2.9984e+01,        nan, 1.0992e+01,\n",
       "       1.5898e+00, 1.4992e+01, 1.9902e+00, 6.0000e+01, 8.9922e+00,\n",
       "       6.9883e+00, 7.9883e+00, 4.0000e+01, 1.9984e+01, 7.4883e+00,\n",
       "       1.2992e+01, 5.9883e+00, 2.4902e+00, 1.5992e+01, 1.2500e+00,\n",
       "       2.4984e+01, 1.7984e+01, 6.2000e+01, 3.4902e+00, 1.1992e+01,\n",
       "       1.3992e+01, 3.5000e+01, 7.4750e+01, 1.4902e+00, 3.3000e+01,\n",
       "       1.0000e+02, 1.4953e+01, 7.0000e+01, 1.6984e+01, 8.0000e+01,\n",
       "       5.0000e+01, 5.0000e+00, 4.5000e+01, 1.3977e+01, 2.9953e+01,\n",
       "       1.2000e+02, 1.1000e+02, 1.5000e+02,        inf, 2.1984e+01,\n",
       "       9.0000e+01, 9.7998e-01, 1.3988e+02, 4.2891e+00, 6.5000e+01,\n",
       "       5.5000e+01, 7.5000e+01, 8.9014e-01, 5.0000e-01, 3.0000e+02,\n",
       "       1.2900e+00, 3.0000e+00, 1.5000e+01, 5.4883e+00, 2.3984e+01,\n",
       "       4.9000e+01, 2.0984e+01, 1.0930e+01, 1.3896e+00, 3.7000e+01,\n",
       "       4.4883e+00, 2.0000e+00, 4.0000e+00, 9.0000e+00, 2.3500e+02,\n",
       "       1.9502e+00, 1.5000e+00, 1.9900e+02, 1.8900e+02, 6.6602e+00,\n",
       "       2.7984e+01, 1.0492e+01, 1.3000e+02, 1.7900e+02, 2.6984e+01,\n",
       "       4.0000e+02, 3.1984e+01, 3.9900e+02, 2.0000e+01, 3.3301e+00,\n",
       "       2.0000e+02, 2.2984e+01, 3.2000e+02, 3.8844e+01, 7.1688e+01,\n",
       "       5.9906e+01,        inf, 2.7484e+01, 3.3906e+00, 6.0000e+00,\n",
       "       1.9953e+01, 4.9975e+02, 1.6062e+01, 4.6797e+00, 1.3138e+02,\n",
       "       4.4969e+01, 2.0275e+02, 1.0000e+00, 2.3008e+00, 9.5020e-01,\n",
       "       1.7238e+02, 2.4988e+02, 2.9707e+00, 1.0961e+01, 1.0000e+01,\n",
       "       3.0000e+01, 2.6602e+00, 6.4805e+00, 1.9297e+01, 1.1148e+01,\n",
       "       1.8906e+01, 2.8906e+00, 9.9062e+01, 8.7938e+01, 5.9900e+02,\n",
       "       8.9766e+00, 9.6875e+00, 4.8999e-01, 9.9766e+00, 9.9609e+00,\n",
       "       7.0000e+00, 4.9900e+02, 4.4900e+02, 1.2891e+01, 6.4883e+00,\n",
       "       1.8701e+00, 4.3000e+01, 4.2000e+01, 2.9000e+02, 2.3953e+01,\n",
       "       5.6484e+00, 1.2000e+01, 1.3367e+01, 1.9012e+02, 1.2494e+02,\n",
       "       1.6088e+02], dtype=float16)"
      ]
     },
     "execution_count": 16,
     "metadata": {},
     "output_type": "execute_result"
    }
   ],
   "source": [
    "dfSteamGames['price'].unique().round(2)"
   ]
  },
  {
   "cell_type": "code",
   "execution_count": 17,
   "metadata": {},
   "outputs": [
    {
     "name": "stdout",
     "output_type": "stream",
     "text": [
      "<class 'pandas.core.frame.DataFrame'>\n",
      "RangeIndex: 32125 entries, 0 to 32124\n",
      "Data columns (total 13 columns):\n",
      " #   Column        Non-Null Count  Dtype  \n",
      "---  ------        --------------  -----  \n",
      " 0   publisher     24078 non-null  object \n",
      " 1   genres        28844 non-null  object \n",
      " 2   app_name      32124 non-null  object \n",
      " 3   title         30076 non-null  object \n",
      " 4   url           32125 non-null  object \n",
      " 5   release_date  30059 non-null  object \n",
      " 6   tags          31963 non-null  object \n",
      " 7   reviews_url   32125 non-null  object \n",
      " 8   specs         31456 non-null  object \n",
      " 9   price         30748 non-null  float16\n",
      " 10  early_access  32125 non-null  object \n",
      " 11  id            32125 non-null  object \n",
      " 12  developer     28828 non-null  object \n",
      "dtypes: float16(1), object(12)\n",
      "memory usage: 3.0+ MB\n"
     ]
    }
   ],
   "source": [
    "dfSteamGames.info()"
   ]
  },
  {
   "cell_type": "markdown",
   "metadata": {},
   "source": [
    "Listo los datos 'masticados' para que los cinetificos de datos hagan lo suyo"
   ]
  },
  {
   "cell_type": "code",
   "execution_count": 18,
   "metadata": {},
   "outputs": [],
   "source": [
    "# Guardar el DataFrame en un archivo .csv comprimido con gzip\n",
    "dfSteamGames.to_csv('../datasource/steam_games_chewed.csv.gz', compression='gzip')"
   ]
  }
 ],
 "metadata": {
  "kernelspec": {
   "display_name": "Python 3",
   "language": "python",
   "name": "python3"
  },
  "language_info": {
   "codemirror_mode": {
    "name": "ipython",
    "version": 3
   },
   "file_extension": ".py",
   "mimetype": "text/x-python",
   "name": "python",
   "nbconvert_exporter": "python",
   "pygments_lexer": "ipython3",
   "version": "3.10.12"
  }
 },
 "nbformat": 4,
 "nbformat_minor": 2
}
