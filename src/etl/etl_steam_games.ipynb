{
 "cells": [
  {
   "cell_type": "code",
   "execution_count": null,
   "metadata": {},
   "outputs": [],
   "source": [
    "import pandas as pd\n",
    "import numpy as np\n",
    "import gzip\n",
    "import json\n",
    "import sys\n",
    "import seaborn as sns\n",
    "import ast\n",
    "import warnings\n",
    "warnings.filterwarnings('ignore')\n",
    "\n",
    "from sklearn.decomposition import PCA\n",
    "from scipy.stats import zscore\n",
    "from pyod.models.mad import MAD\n",
    "\n",
    "sys.path.append(\"../utils/\")\n",
    "from myFunctions import jsonGzipToDataframe, toDommyColumns"
   ]
  },
  {
   "cell_type": "markdown",
   "metadata": {},
   "source": [
    "Extraemos los datos del archivo origina y lo cargamos en un dataframe"
   ]
  },
  {
   "cell_type": "code",
   "execution_count": null,
   "metadata": {},
   "outputs": [],
   "source": [
    "df = jsonGzipToDataframe('../datasource/steam_games.json.gz')"
   ]
  },
  {
   "cell_type": "code",
   "execution_count": null,
   "metadata": {},
   "outputs": [],
   "source": [
    "df.info()"
   ]
  },
  {
   "cell_type": "markdown",
   "metadata": {},
   "source": [
    "Nos aseguramos de trabajar en otro espacio de memoria para no tener que volver a cargar el JSON"
   ]
  },
  {
   "cell_type": "code",
   "execution_count": 47,
   "metadata": {},
   "outputs": [],
   "source": [
    "# Nos aseguramos de crear un nuevo objeto en memoria usando 'copy()'\n",
    "dfSteamGames = df.copy()"
   ]
  },
  {
   "cell_type": "markdown",
   "metadata": {},
   "source": [
    "Si hay 'id' duplicados nos quedamos con el primero y los demas los eliminamos"
   ]
  },
  {
   "cell_type": "code",
   "execution_count": 48,
   "metadata": {},
   "outputs": [],
   "source": [
    "# Eliminar filas duplicadas basadas en la columna 'user_id'\n",
    "dfSteamGames = dfSteamGames.drop_duplicates(['id'], keep = 'first').reset_index(drop=True)"
   ]
  },
  {
   "cell_type": "code",
   "execution_count": 65,
   "metadata": {},
   "outputs": [
    {
     "name": "stdout",
     "output_type": "stream",
     "text": [
      "<class 'pandas.core.frame.DataFrame'>\n",
      "RangeIndex: 32125 entries, 0 to 32124\n",
      "Data columns (total 13 columns):\n",
      " #   Column        Non-Null Count  Dtype  \n",
      "---  ------        --------------  -----  \n",
      " 0   publisher     24078 non-null  object \n",
      " 1   genres        28844 non-null  object \n",
      " 2   app_name      32124 non-null  object \n",
      " 3   title         30076 non-null  object \n",
      " 4   url           32125 non-null  object \n",
      " 5   release_date  30059 non-null  object \n",
      " 6   tags          31963 non-null  object \n",
      " 7   reviews_url   32125 non-null  object \n",
      " 8   specs         31456 non-null  object \n",
      " 9   price         30748 non-null  float64\n",
      " 10  early_access  32125 non-null  object \n",
      " 11  id            32125 non-null  object \n",
      " 12  developer     28828 non-null  object \n",
      "dtypes: float64(1), object(12)\n",
      "memory usage: 3.2+ MB\n"
     ]
    }
   ],
   "source": [
    "dfSteamGames.info()"
   ]
  },
  {
   "cell_type": "code",
   "execution_count": null,
   "metadata": {},
   "outputs": [],
   "source": [
    "# Aplicamos una mascara para marcar los valores NaN y los sumamos por columna\n",
    "dfSteamGames.isna().sum()"
   ]
  },
  {
   "cell_type": "code",
   "execution_count": 49,
   "metadata": {},
   "outputs": [],
   "source": [
    "# Elimina las filas que tienen valor NaN en la columna 'id'\n",
    "dfSteamGames = dfSteamGames.dropna(subset=['id'])"
   ]
  },
  {
   "cell_type": "code",
   "execution_count": 66,
   "metadata": {},
   "outputs": [
    {
     "data": {
      "text/plain": [
       "array(['761140', '643980', '670290', ..., '610660', '658870', '681550'],\n",
       "      dtype=object)"
      ]
     },
     "execution_count": 66,
     "metadata": {},
     "output_type": "execute_result"
    }
   ],
   "source": [
    "dfSteamGames['id'].unique()"
   ]
  },
  {
   "cell_type": "code",
   "execution_count": 51,
   "metadata": {},
   "outputs": [],
   "source": [
    "# Crear una lista con los valores a eliminar\n",
    "invalidValues = ['Free Movie', 'Install Now', 'Install Theme', 'Third-party', 'Play Now']"
   ]
  },
  {
   "cell_type": "code",
   "execution_count": 52,
   "metadata": {},
   "outputs": [],
   "source": [
    "# # Crear una lista con los valores a reemplazar\n",
    "replaceValues = ['Free', 'Free Demo', 'Free Mod', 'Free to Use', 'Free To Play', 'Free to Play',\n",
    "   'Free to Try', 'Play the Demo', 'Play for Free!', 'Free HITMAN™ Holiday Pack',\n",
    "   'Play WARMACHINE: Tactics Demo']"
   ]
  },
  {
   "cell_type": "markdown",
   "metadata": {},
   "source": [
    "¿Son mucho o pocos los valores invalidos en el precio?"
   ]
  },
  {
   "cell_type": "code",
   "execution_count": 53,
   "metadata": {},
   "outputs": [
    {
     "data": {
      "text/plain": [
       "price\n",
       "Free Movie       1\n",
       "Install Now      1\n",
       "Install Theme    1\n",
       "Third-party      2\n",
       "Play Now         2\n",
       "Name: count, dtype: int64"
      ]
     },
     "execution_count": 53,
     "metadata": {},
     "output_type": "execute_result"
    }
   ],
   "source": [
    "dfSteamGames['price'].value_counts()[invalidValues]"
   ]
  },
  {
   "cell_type": "code",
   "execution_count": 54,
   "metadata": {},
   "outputs": [],
   "source": [
    "# Eliminar las filas que tengan los valores invalidos en la columna 'price'\n",
    "dfSteamGames = dfSteamGames.loc[~dfSteamGames['price'].isin(invalidValues)].reset_index(drop = True)"
   ]
  },
  {
   "cell_type": "code",
   "execution_count": 55,
   "metadata": {},
   "outputs": [],
   "source": [
    "# Sustituir el valor 'Free' por 0.00 en la columna 'price'\n",
    "dfSteamGames['price'].replace(replaceValues, 0.00, inplace = True)\n",
    "\n",
    "dfSteamGames['price'].replace(['Starting at $499.00'], 499.00, inplace = True)\n",
    "dfSteamGames['price'].replace(['Starting at $449.00'], 449.00, inplace = True)"
   ]
  },
  {
   "cell_type": "code",
   "execution_count": 62,
   "metadata": {},
   "outputs": [
    {
     "data": {
      "text/plain": [
       "array([4.9900e+00, 0.0000e+00, 9.9000e-01, 2.9900e+00, 3.9900e+00,\n",
       "       9.9900e+00, 1.8990e+01, 2.9990e+01,        nan, 1.0990e+01,\n",
       "       1.5900e+00, 1.4990e+01, 1.9900e+00, 5.9990e+01, 8.9900e+00,\n",
       "       6.9900e+00, 7.9900e+00, 3.9990e+01, 1.9990e+01, 7.4900e+00,\n",
       "       1.2990e+01, 5.9900e+00, 2.4900e+00, 1.5990e+01, 1.2500e+00,\n",
       "       2.4990e+01, 1.7990e+01, 6.1990e+01, 3.4900e+00, 1.1990e+01,\n",
       "       1.3990e+01, 3.4990e+01, 7.4760e+01, 1.4900e+00, 3.2990e+01,\n",
       "       9.9990e+01, 1.4950e+01, 6.9990e+01, 1.6990e+01, 7.9990e+01,\n",
       "       4.9990e+01, 5.0000e+00, 4.4990e+01, 1.3980e+01, 2.9960e+01,\n",
       "       1.1999e+02, 1.0999e+02, 1.4999e+02, 7.7171e+02, 2.1990e+01,\n",
       "       8.9990e+01, 9.8000e-01, 1.3992e+02, 4.2900e+00, 6.4990e+01,\n",
       "       5.4990e+01, 7.4990e+01, 8.9000e-01, 5.0000e-01, 2.9999e+02,\n",
       "       1.2900e+00, 3.0000e+00, 1.5000e+01, 5.4900e+00, 2.3990e+01,\n",
       "       4.9000e+01, 2.0990e+01, 1.0930e+01, 1.3900e+00, 3.6990e+01,\n",
       "       4.4900e+00, 2.0000e+00, 4.0000e+00, 9.0000e+00, 2.3499e+02,\n",
       "       1.9500e+00, 1.5000e+00, 1.9900e+02, 1.8900e+02, 6.6600e+00,\n",
       "       2.7990e+01, 1.0490e+01, 1.2999e+02, 1.7900e+02, 2.6990e+01,\n",
       "       3.9999e+02, 3.1990e+01, 3.9900e+02, 2.0000e+01, 4.0000e+01,\n",
       "       3.3300e+00, 1.9999e+02, 2.2990e+01, 3.2000e+02, 3.8850e+01,\n",
       "       7.1700e+01, 5.9950e+01, 9.9500e+02, 2.7490e+01, 3.3900e+00,\n",
       "       6.0000e+00, 1.9950e+01, 4.9999e+02, 1.6060e+01, 4.6800e+00,\n",
       "       1.3140e+02, 4.4980e+01, 2.0276e+02, 1.0000e+00, 2.3000e+00,\n",
       "       9.5000e-01, 1.7224e+02, 2.4999e+02, 2.9700e+00, 1.0960e+01,\n",
       "       1.0000e+01, 3.0000e+01, 2.6600e+00, 6.4800e+00, 1.9290e+01,\n",
       "       1.1150e+01, 1.8900e+01, 2.8900e+00, 9.9000e+01, 8.7940e+01,\n",
       "       5.9900e+02, 8.9800e+00, 9.6900e+00, 4.9000e-01, 9.9800e+00,\n",
       "       9.9500e+00, 7.0000e+00, 4.9900e+02, 4.4900e+02, 1.2890e+01,\n",
       "       6.4900e+00, 1.8700e+00, 4.2990e+01, 4.1990e+01, 2.8999e+02,\n",
       "       2.3960e+01, 5.6500e+00, 1.2000e+01, 1.3370e+01, 1.8996e+02,\n",
       "       1.2499e+02, 1.9980e+01, 1.6091e+02])"
      ]
     },
     "execution_count": 62,
     "metadata": {},
     "output_type": "execute_result"
    }
   ],
   "source": [
    "dfSteamGames['price'].unique()"
   ]
  },
  {
   "cell_type": "code",
   "execution_count": 64,
   "metadata": {},
   "outputs": [
    {
     "data": {
      "text/plain": [
       "price\n",
       "4.99      4278\n",
       "9.99      3902\n",
       "2.99      3429\n",
       "0.99      2607\n",
       "1.99      2541\n",
       "          ... \n",
       "26.99        1\n",
       "179.00       1\n",
       "10.49        1\n",
       "6.66         1\n",
       "160.91       1\n",
       "Name: count, Length: 147, dtype: int64"
      ]
     },
     "execution_count": 64,
     "metadata": {},
     "output_type": "execute_result"
    }
   ],
   "source": [
    "dfSteamGames['price'].value_counts()"
   ]
  },
  {
   "cell_type": "code",
   "execution_count": 60,
   "metadata": {},
   "outputs": [],
   "source": [
    "dfSteamGames['price'] = dfSteamGames['price'].round(2)"
   ]
  },
  {
   "cell_type": "code",
   "execution_count": 68,
   "metadata": {},
   "outputs": [
    {
     "name": "stdout",
     "output_type": "stream",
     "text": [
      "<class 'pandas.core.frame.DataFrame'>\n",
      "RangeIndex: 32125 entries, 0 to 32124\n",
      "Data columns (total 13 columns):\n",
      " #   Column        Non-Null Count  Dtype  \n",
      "---  ------        --------------  -----  \n",
      " 0   publisher     24078 non-null  object \n",
      " 1   genres        28844 non-null  object \n",
      " 2   app_name      32124 non-null  object \n",
      " 3   title         30076 non-null  object \n",
      " 4   url           32125 non-null  object \n",
      " 5   release_date  30059 non-null  object \n",
      " 6   tags          31963 non-null  object \n",
      " 7   reviews_url   32125 non-null  object \n",
      " 8   specs         31456 non-null  object \n",
      " 9   price         30748 non-null  float64\n",
      " 10  early_access  32125 non-null  object \n",
      " 11  id            32125 non-null  int64  \n",
      " 12  developer     28828 non-null  object \n",
      "dtypes: float64(1), int64(1), object(11)\n",
      "memory usage: 3.2+ MB\n"
     ]
    }
   ],
   "source": [
    "dfSteamGames.info()"
   ]
  },
  {
   "cell_type": "markdown",
   "metadata": {},
   "source": [
    "Eliminemos los juegos que no tienen 'id'"
   ]
  },
  {
   "cell_type": "code",
   "execution_count": null,
   "metadata": {},
   "outputs": [],
   "source": [
    "# Eliminar las filas que contienen valores NaN en la columna 'id'\n",
    "dfSteamGames = dfSteamGames.dropna(subset = ['id']).reset_index(drop = True)"
   ]
  },
  {
   "cell_type": "markdown",
   "metadata": {},
   "source": [
    "La columna 'price' debe ser de tipo decimal... cambiemosla a Float"
   ]
  },
  {
   "cell_type": "code",
   "execution_count": 67,
   "metadata": {},
   "outputs": [],
   "source": [
    "# Convertir la columna 'price' a tipo float\n",
    "dfSteamGames['id'] = dfSteamGames['id'].astype(int)"
   ]
  },
  {
   "cell_type": "markdown",
   "metadata": {},
   "source": [
    "Los NaN son de tipo float\n",
    "¿Cuánto representarán del total de valores en la columna 'tags'?"
   ]
  },
  {
   "cell_type": "code",
   "execution_count": null,
   "metadata": {},
   "outputs": [],
   "source": [
    "# Crear un nuevo DataFrame solo con las filas que tienen tipo string y no NaN Float en la columna\n",
    "# 'tags'\n",
    "dfSinTagsNaN = df[df['tags'].apply(lambda x: isinstance(x, str))]\n",
    "dfConTagsNaN = df[df['tags'].apply(lambda x: isinstance(x, float))]\n",
    "print('String son', dfSinTagsNaN.shape[0])\n",
    "print('NaN son', dfConTagsNaN.shape[0])"
   ]
  },
  {
   "cell_type": "markdown",
   "metadata": {},
   "source": [
    "Entonces nos quedearemos con los juegos cuyos 'tags' no sea uno de esos NaN Float"
   ]
  },
  {
   "cell_type": "code",
   "execution_count": null,
   "metadata": {},
   "outputs": [],
   "source": [
    "df = dfSinTagsNaN.reset_index(drop=True)\n",
    "df.info()"
   ]
  },
  {
   "cell_type": "markdown",
   "metadata": {},
   "source": [
    "Obtengamos las columnas dummies de la columna 'tags'"
   ]
  },
  {
   "cell_type": "code",
   "execution_count": null,
   "metadata": {},
   "outputs": [],
   "source": [
    "# Pero antes sustituyamos los NaN de la columna 'tags' por listas vacias\n",
    "df['tags'] = df['tags'].fillna('[]')\n",
    "\n",
    "# Obtengamos las columnas dummies de la columna 'tags'\n",
    "dummyColumnsTags = toDommyColumns(df,'tags')\n",
    "\n",
    "# Seamos consistentes con los nombres de columnas\n",
    "dummyColumnsTags.columns = dummyColumnsTags.columns.str.lower().str.replace(' ', '_') "
   ]
  },
  {
   "cell_type": "code",
   "execution_count": null,
   "metadata": {},
   "outputs": [],
   "source": [
    "dummyColumnsTags.shape"
   ]
  },
  {
   "cell_type": "markdown",
   "metadata": {},
   "source": [
    "Veamos cuáles son las columnas dummies más valiosas de la columna 'tags'"
   ]
  },
  {
   "cell_type": "code",
   "execution_count": null,
   "metadata": {},
   "outputs": [],
   "source": [
    "print(dummyColumnsTags.sum(axis=0).sort_values(ascending=False).head(30) / dummyColumnsTags.shape[0])\n",
    "#dummyColumnsTags.sum().sort_values(ascending = False).head(20) / dummyColumnsTags.shape[0]"
   ]
  },
  {
   "cell_type": "code",
   "execution_count": null,
   "metadata": {},
   "outputs": [],
   "source": [
    "# Sumemos los valores de la columna 'tags', los disponemos en orden descendente, seleccionamos los\n",
    "# 20 valores más altos y luego los normalizamos dividiéndolos por la longitud del DataFrame original\n",
    "dummyColumnsTags.sum().sort_values(ascending = False).head(20) / dummyColumnsTags.shape[0]"
   ]
  },
  {
   "cell_type": "markdown",
   "metadata": {},
   "source": [
    "Nos quedaremos con las siguientes columnas"
   ]
  },
  {
   "cell_type": "code",
   "execution_count": null,
   "metadata": {},
   "outputs": [],
   "source": [
    "tagsColumns = ['tags_indie', 'tags_action', 'tags_adventure', 'tags_casual', 'tags_simulation']\n",
    "tagsColumns += ['tags_strategy', 'tags_rpg', 'tags_singleplayer', 'tags_free_to_play', 'tags_multiplayer']\n",
    "dummyTags = dummyColumnsTags[tagsColumns]"
   ]
  },
  {
   "cell_type": "code",
   "execution_count": null,
   "metadata": {},
   "outputs": [],
   "source": [
    "dummyTags.info()"
   ]
  },
  {
   "cell_type": "markdown",
   "metadata": {},
   "source": [
    "Es momento de unir las columnas dummies de tags al dataframe original"
   ]
  },
  {
   "cell_type": "code",
   "execution_count": null,
   "metadata": {},
   "outputs": [],
   "source": [
    "# Insertemos las columnas dummies al dataframe original\n",
    "df = pd.concat([df, dummyTags], axis = 1)"
   ]
  },
  {
   "cell_type": "code",
   "execution_count": null,
   "metadata": {},
   "outputs": [],
   "source": [
    "df.head()"
   ]
  },
  {
   "cell_type": "code",
   "execution_count": null,
   "metadata": {},
   "outputs": [],
   "source": [
    "df.info()"
   ]
  },
  {
   "cell_type": "markdown",
   "metadata": {},
   "source": [
    "Los NaN son de tipo float\n",
    "¿Cuánto representarán del total de valores en la columna 'genres'?"
   ]
  },
  {
   "cell_type": "code",
   "execution_count": null,
   "metadata": {},
   "outputs": [],
   "source": [
    "# Crear un nuevo DataFrame solo con las filas que tienen tipo string y no NaN Float en la columna\n",
    "# 'genres'\n",
    "dfSinGenresNaN = df[df['genres'].apply(lambda x: isinstance(x, str))]\n",
    "dfConGenresNaN = df[df['genres'].apply(lambda x: isinstance(x, float))]\n",
    "print('String son', dfSinGenresNaN.shape[0])\n",
    "print('NaN son', dfConGenresNaN.shape[0])"
   ]
  },
  {
   "cell_type": "markdown",
   "metadata": {},
   "source": [
    "Entonces nos quedearemos con los juegos cuyos 'genres' no sea uno de esos NaN Float"
   ]
  },
  {
   "cell_type": "code",
   "execution_count": null,
   "metadata": {},
   "outputs": [],
   "source": [
    "df = dfSinGenresNaN.reset_index(drop = True)\n",
    "df.info()"
   ]
  },
  {
   "cell_type": "markdown",
   "metadata": {},
   "source": [
    "Obtengamos las columnas dummies de la columna 'genres'"
   ]
  },
  {
   "cell_type": "code",
   "execution_count": null,
   "metadata": {},
   "outputs": [],
   "source": [
    "# Obtengamos las columnas dummies de la columna 'genres'\n",
    "dummyColumnsGenres = toDommyColumns(df, 'genres')\n",
    "\n",
    "# Seamos consistentes con los nombres de columnas\n",
    "dummyColumnsGenres.columns = dummyColumnsGenres.columns.str.lower().str.replace(' ', '_') "
   ]
  },
  {
   "cell_type": "code",
   "execution_count": null,
   "metadata": {},
   "outputs": [],
   "source": [
    "# Sumemos los valores de la columna 'genres', los ordenamos en orden descendente, seleccionamos los 20\n",
    "# valores más altos y luego los normalizamos dividiéndolos por la longitud del DataFrame original\n",
    "dummyColumnsGenres.sum().sort_values(ascending = False).head(20) / len(dummyColumnsGenres)"
   ]
  },
  {
   "cell_type": "markdown",
   "metadata": {},
   "source": [
    "Nos quedaremos con la siguientes columnas"
   ]
  },
  {
   "cell_type": "code",
   "execution_count": null,
   "metadata": {},
   "outputs": [],
   "source": [
    "genresColumns = ['genres_indie', 'genres_action', 'genres_casual', 'genres_adventure']\n",
    "genresColumns += ['genres_strategy', 'genres_simulation', 'genres_rpg', 'genres_free_to_play']\n",
    "genresColumns += ['genres_early_access', 'genres_sports', 'genres_massively_multiplayer', 'genres_racing']\n",
    "dummyGenres = dummyColumnsGenres[genresColumns]"
   ]
  },
  {
   "cell_type": "code",
   "execution_count": null,
   "metadata": {},
   "outputs": [],
   "source": [
    "#dummyGenres"
   ]
  },
  {
   "cell_type": "code",
   "execution_count": null,
   "metadata": {},
   "outputs": [],
   "source": [
    "#df.shape"
   ]
  },
  {
   "cell_type": "markdown",
   "metadata": {},
   "source": [
    "Es momento de unir las columnas dummies de genres al dataframe original"
   ]
  },
  {
   "cell_type": "code",
   "execution_count": null,
   "metadata": {},
   "outputs": [],
   "source": [
    "# Insertemos las columnas dummies al dataframe original\n",
    "df = pd.concat([df, dummyGenres], axis = 1)"
   ]
  },
  {
   "cell_type": "code",
   "execution_count": null,
   "metadata": {},
   "outputs": [],
   "source": [
    "df.iloc[:, 8:9]"
   ]
  },
  {
   "cell_type": "code",
   "execution_count": null,
   "metadata": {},
   "outputs": [],
   "source": [
    "df.head()\n",
    "#df.loc[df['title'] == 'Lost Summoner Kitty']"
   ]
  },
  {
   "cell_type": "markdown",
   "metadata": {},
   "source": [
    "A crear la columna 'year'"
   ]
  },
  {
   "cell_type": "code",
   "execution_count": null,
   "metadata": {},
   "outputs": [],
   "source": [
    "# Extraer el año de la columna 'release_date' y crear la columna 'year'\n",
    "df['year'] = df['release_date'].str.extract(r'(\\d{4})')"
   ]
  },
  {
   "cell_type": "code",
   "execution_count": null,
   "metadata": {},
   "outputs": [],
   "source": [
    "df['year'].unique()"
   ]
  },
  {
   "cell_type": "code",
   "execution_count": null,
   "metadata": {},
   "outputs": [],
   "source": [
    "df.info()"
   ]
  },
  {
   "cell_type": "markdown",
   "metadata": {},
   "source": [
    "Ok, está quedando mejor. Parece que las columnas 'url' y 'reviews_url' sobran porque no aportan nada\n",
    "al análisis, vamos a quitarlas\n"
   ]
  },
  {
   "cell_type": "code",
   "execution_count": null,
   "metadata": {},
   "outputs": [],
   "source": [
    "# Eliminar las columnas 'url' y 'reviews_url'\n",
    "df = df.drop(['url', 'reviews_url'], axis=1)"
   ]
  },
  {
   "cell_type": "markdown",
   "metadata": {},
   "source": [
    "Ya le extrajimos el año a la columna 'release_date', vamos a borrarla. Es redundante tener a\n",
    "'genres' y 'tags' porque las desplegamos como dummies, tambien a borrarlas. "
   ]
  },
  {
   "cell_type": "code",
   "execution_count": null,
   "metadata": {},
   "outputs": [],
   "source": [
    "# Eliminar las columnas 'release_date', 'genres' y 'tags'\n",
    "df = df.drop(['release_date', 'genres', 'tags'], axis=1)"
   ]
  },
  {
   "cell_type": "code",
   "execution_count": null,
   "metadata": {},
   "outputs": [],
   "source": [
    "df.head()"
   ]
  },
  {
   "cell_type": "code",
   "execution_count": null,
   "metadata": {},
   "outputs": [],
   "source": []
  },
  {
   "cell_type": "markdown",
   "metadata": {},
   "source": [
    "Los True y False de la columna 'early_access' mejor los cambiamos a unos y ceros respectivamente"
   ]
  },
  {
   "cell_type": "code",
   "execution_count": null,
   "metadata": {},
   "outputs": [],
   "source": [
    "# Cambiar la columna 'early_access' a tipo entero en el DataFrame 'df'\n",
    "df['early_access'] = df['early_access'].astype(int)"
   ]
  },
  {
   "cell_type": "code",
   "execution_count": null,
   "metadata": {},
   "outputs": [],
   "source": [
    "# Ver el contenido de la columna 'tags' de la primera fila\n",
    "type(df.iloc[0]['early_access'])"
   ]
  },
  {
   "cell_type": "code",
   "execution_count": null,
   "metadata": {},
   "outputs": [],
   "source": [
    "df.info()"
   ]
  },
  {
   "cell_type": "markdown",
   "metadata": {},
   "source": [
    "Busquemos pistas sobre la presencia de outliers con un histograma"
   ]
  },
  {
   "cell_type": "code",
   "execution_count": null,
   "metadata": {},
   "outputs": [],
   "source": [
    "# Create a histogram using Seaborn\n",
    "g = sns.histplot(data = df, x = 'price')\n",
    "# Add labels\n",
    "g.set_xlabel('Total price per game')"
   ]
  },
  {
   "cell_type": "markdown",
   "metadata": {},
   "source": [
    "En el histograma podemos ver que los datos se concentran por debajo de los 50$ aproximadamente"
   ]
  },
  {
   "cell_type": "markdown",
   "metadata": {},
   "source": [
    "Busquemos pistas sobre la presencia de outliers con un diagrama de caja"
   ]
  },
  {
   "cell_type": "code",
   "execution_count": null,
   "metadata": {},
   "outputs": [],
   "source": [
    "# Create a box plot\n",
    "g = sns.boxplot(data = df, x = 'price')\n",
    "\n",
    "# Add a title and change xlabel\n",
    "g.set_title('Box Plot of Total')\n",
    "g.set_xlabel('Total price per game')"
   ]
  },
  {
   "cell_type": "markdown",
   "metadata": {},
   "source": [
    "En el gráfico de caja podemos ver claramente la presencia de outliers en la columna ‘price’,"
   ]
  },
  {
   "cell_type": "markdown",
   "metadata": {},
   "source": [
    "Ataquemos ahora con Z-Score"
   ]
  },
  {
   "cell_type": "code",
   "execution_count": null,
   "metadata": {},
   "outputs": [],
   "source": [
    "# Calculate z-score for each data point and compute its absolute value\n",
    "z_scores = zscore(df['price'])\n",
    "abs_z_scores = np.abs(z_scores)\n",
    "\n",
    "# Select the outliers using a threshold of 3\n",
    "outliers = df[abs_z_scores > 3]\n",
    "outliers.head()"
   ]
  },
  {
   "cell_type": "code",
   "execution_count": null,
   "metadata": {},
   "outputs": [],
   "source": [
    "# Obtain number of outliers\n",
    "print(f'Number of outliers: {len(outliers)}')"
   ]
  },
  {
   "cell_type": "markdown",
   "metadata": {},
   "source": [
    "Pero no podemos fiarnos de estos 287 porque el método z-score sólo es apropiada para distribuciones normales. Como vimos en el histograma, los datos para la variable ‘price’ están sesgados hacia la derecha por lo que debemos afinar la puntería."
   ]
  },
  {
   "cell_type": "markdown",
   "metadata": {},
   "source": [
    "Busquemos pistas sobre la presencia de outliers con MAD-Z-Score"
   ]
  },
  {
   "cell_type": "code",
   "execution_count": null,
   "metadata": {},
   "outputs": [],
   "source": [
    "# Set threshold to 3.5\n",
    "mad = MAD(threshold = 3.5)\n",
    "\n",
    "# Convert the 'total' column into a 2D numpy array\n",
    "priceReshaped = df['price'].values.reshape(-1, 1)\n",
    "\n",
    "# Generate inline and outlier labels\n",
    "labels = mad.fit(priceReshaped).labels_\n",
    "labels"
   ]
  },
  {
   "cell_type": "code",
   "execution_count": null,
   "metadata": {},
   "outputs": [],
   "source": [
    "# Obtain number of outliers\n",
    "print(f'Number of outliers: {labels.sum()}')"
   ]
  },
  {
   "cell_type": "markdown",
   "metadata": {},
   "source": []
  }
 ],
 "metadata": {
  "kernelspec": {
   "display_name": "Python 3",
   "language": "python",
   "name": "python3"
  },
  "language_info": {
   "codemirror_mode": {
    "name": "ipython",
    "version": 3
   },
   "file_extension": ".py",
   "mimetype": "text/x-python",
   "name": "python",
   "nbconvert_exporter": "python",
   "pygments_lexer": "ipython3",
   "version": "3.10.12"
  }
 },
 "nbformat": 4,
 "nbformat_minor": 2
}
