{
 "cells": [
  {
   "cell_type": "code",
   "execution_count": null,
   "metadata": {},
   "outputs": [],
   "source": [
    "import pandas as pd\n",
    "import sys\n",
    "\n",
    "sys.path.append(\"../utils/\")\n",
    "from myFunctions import jsonGzipToDataframe2, toDommyColumns"
   ]
  },
  {
   "cell_type": "markdown",
   "metadata": {},
   "source": [
    "Guardemos el JSON comprimido dentro de un dataframe Pandas"
   ]
  },
  {
   "cell_type": "code",
   "execution_count": null,
   "metadata": {},
   "outputs": [],
   "source": [
    "df = jsonGzipToDataframe2('../datasource/user_reviews.json.gz')"
   ]
  },
  {
   "cell_type": "code",
   "execution_count": null,
   "metadata": {},
   "outputs": [],
   "source": [
    "df"
   ]
  },
  {
   "cell_type": "code",
   "execution_count": null,
   "metadata": {},
   "outputs": [],
   "source": [
    "#Ver todos los diccionarios de la columna 'reviews' en la fila 2\n",
    "#df['reviews'][0]\n",
    "for dic in df.loc[2, 'reviews']:\n",
    "    print(dic) # con dic['item_id'] veo solo los identificadores unicos de los juegos"
   ]
  },
  {
   "cell_type": "markdown",
   "metadata": {},
   "source": [
    "Convirtamos los JSON que estan en 'reviews' en columnas"
   ]
  },
  {
   "cell_type": "code",
   "execution_count": null,
   "metadata": {},
   "outputs": [],
   "source": [
    "# Entre otras cosas, json_normalize corrige las comillas simples y dobles de JSON en 'reviews'\n",
    "df = pd.json_normalize(df.to_dict('records'), 'reviews', ['user_id'])\n",
    "\n",
    "# Reorganizar las columnas:\n",
    "df = df[[\n",
    "    'user_id',\n",
    "    'item_id',\n",
    "    'posted',\n",
    "    'last_edited',\n",
    "    'recommend',\n",
    "    'funny',\n",
    "    'helpful',\n",
    "    'review'\n",
    "]]"
   ]
  },
  {
   "cell_type": "code",
   "execution_count": null,
   "metadata": {},
   "outputs": [],
   "source": [
    "df.info()"
   ]
  },
  {
   "cell_type": "code",
   "execution_count": null,
   "metadata": {},
   "outputs": [],
   "source": [
    "df.head()"
   ]
  },
  {
   "cell_type": "markdown",
   "metadata": {},
   "source": [
    "A ver cuantos NaN hay en cada columna"
   ]
  },
  {
   "cell_type": "code",
   "execution_count": null,
   "metadata": {},
   "outputs": [],
   "source": [
    "df.isna().sum() # le aplicamos una mascara al dataframe para sumar cuantos NaN hay "
   ]
  },
  {
   "cell_type": "code",
   "execution_count": null,
   "metadata": {},
   "outputs": [],
   "source": [
    "#df['reviews'] = df['reviews'].fillna('[]')"
   ]
  },
  {
   "cell_type": "markdown",
   "metadata": {},
   "source": [
    "Listo los datos (masticados) para que los cinetificos de datos hagan lo suyo"
   ]
  },
  {
   "cell_type": "code",
   "execution_count": null,
   "metadata": {},
   "outputs": [],
   "source": [
    "# Guardar el DataFrame en un archivo .csv comprimido con gzip\n",
    "df.to_csv('../datasource/user_reviews_chewed.csv.gz', compression = 'gzip', index = False)"
   ]
  }
 ],
 "metadata": {
  "kernelspec": {
   "display_name": "Python 3",
   "language": "python",
   "name": "python3"
  },
  "language_info": {
   "codemirror_mode": {
    "name": "ipython",
    "version": 3
   },
   "file_extension": ".py",
   "mimetype": "text/x-python",
   "name": "python",
   "nbconvert_exporter": "python",
   "pygments_lexer": "ipython3",
   "version": "3.10.12"
  }
 },
 "nbformat": 4,
 "nbformat_minor": 2
}
