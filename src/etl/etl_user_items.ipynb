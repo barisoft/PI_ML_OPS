{
 "cells": [
  {
   "cell_type": "code",
   "execution_count": 1,
   "metadata": {},
   "outputs": [],
   "source": [
    "import pandas as pd\n",
    "import sys\n",
    "\n",
    "sys.path.append(\"../utils/\")\n",
    "from myFunctions import jsonGzipToDataframe2"
   ]
  },
  {
   "cell_type": "markdown",
   "metadata": {},
   "source": [
    "Extraemos los datos del archivo origina y lo cargamos en un dataframe"
   ]
  },
  {
   "cell_type": "code",
   "execution_count": 2,
   "metadata": {},
   "outputs": [
    {
     "name": "stdout",
     "output_type": "stream",
     "text": [
      "<class 'pandas.core.frame.DataFrame'>\n",
      "RangeIndex: 88310 entries, 0 to 88309\n",
      "Data columns (total 5 columns):\n",
      " #   Column       Non-Null Count  Dtype \n",
      "---  ------       --------------  ----- \n",
      " 0   user_id      88310 non-null  object\n",
      " 1   items_count  88310 non-null  int64 \n",
      " 2   steam_id     88310 non-null  object\n",
      " 3   user_url     88310 non-null  object\n",
      " 4   items        88310 non-null  object\n",
      "dtypes: int64(1), object(4)\n",
      "memory usage: 3.4+ MB\n"
     ]
    }
   ],
   "source": [
    "df = jsonGzipToDataframe2('../datasource/users_items.json.gz')\n",
    "df.info()"
   ]
  },
  {
   "cell_type": "code",
   "execution_count": 3,
   "metadata": {},
   "outputs": [
    {
     "data": {
      "text/plain": [
       "(88310, 5)"
      ]
     },
     "execution_count": 3,
     "metadata": {},
     "output_type": "execute_result"
    }
   ],
   "source": [
    "df.shape"
   ]
  },
  {
   "cell_type": "markdown",
   "metadata": {},
   "source": [
    "Nos aseguramos de trabajar en otro espacio de memoria para no tener que volver a cargar el JSON"
   ]
  },
  {
   "cell_type": "code",
   "execution_count": 4,
   "metadata": {},
   "outputs": [],
   "source": [
    "# Nos aseguramos de crear un nuevo objeto en memoria usando 'copy()'\n",
    "dfUserItems = df[['user_id', 'items', 'items_count']].copy()"
   ]
  },
  {
   "cell_type": "markdown",
   "metadata": {},
   "source": [
    "Si hay 'user_id' duplicados nos quedamos con el primero y los demas los eliminamos"
   ]
  },
  {
   "cell_type": "code",
   "execution_count": 5,
   "metadata": {},
   "outputs": [],
   "source": [
    "# Eliminar filas duplicadas basadas en la columna 'user_id'\n",
    "dfUserItems = dfUserItems.drop_duplicates(['user_id'], keep = 'first').reset_index(drop = True)\n",
    "#dfUserItems = dfUserItems.drop_duplicates(subset = 'items', keep = 'first')\n"
   ]
  },
  {
   "cell_type": "code",
   "execution_count": 6,
   "metadata": {},
   "outputs": [
    {
     "data": {
      "text/html": [
       "<div>\n",
       "<style scoped>\n",
       "    .dataframe tbody tr th:only-of-type {\n",
       "        vertical-align: middle;\n",
       "    }\n",
       "\n",
       "    .dataframe tbody tr th {\n",
       "        vertical-align: top;\n",
       "    }\n",
       "\n",
       "    .dataframe thead th {\n",
       "        text-align: right;\n",
       "    }\n",
       "</style>\n",
       "<table border=\"1\" class=\"dataframe\">\n",
       "  <thead>\n",
       "    <tr style=\"text-align: right;\">\n",
       "      <th></th>\n",
       "      <th>user_id</th>\n",
       "      <th>items</th>\n",
       "      <th>items_count</th>\n",
       "    </tr>\n",
       "  </thead>\n",
       "  <tbody>\n",
       "    <tr>\n",
       "      <th>0</th>\n",
       "      <td>76561197970982479</td>\n",
       "      <td>[{'item_id': '10', 'item_name': 'Counter-Strik...</td>\n",
       "      <td>277</td>\n",
       "    </tr>\n",
       "    <tr>\n",
       "      <th>1</th>\n",
       "      <td>js41637</td>\n",
       "      <td>[{'item_id': '10', 'item_name': 'Counter-Strik...</td>\n",
       "      <td>888</td>\n",
       "    </tr>\n",
       "    <tr>\n",
       "      <th>2</th>\n",
       "      <td>evcentric</td>\n",
       "      <td>[{'item_id': '1200', 'item_name': 'Red Orchest...</td>\n",
       "      <td>137</td>\n",
       "    </tr>\n",
       "    <tr>\n",
       "      <th>3</th>\n",
       "      <td>Riot-Punch</td>\n",
       "      <td>[{'item_id': '10', 'item_name': 'Counter-Strik...</td>\n",
       "      <td>328</td>\n",
       "    </tr>\n",
       "    <tr>\n",
       "      <th>4</th>\n",
       "      <td>doctr</td>\n",
       "      <td>[{'item_id': '300', 'item_name': 'Day of Defea...</td>\n",
       "      <td>541</td>\n",
       "    </tr>\n",
       "    <tr>\n",
       "      <th>...</th>\n",
       "      <td>...</td>\n",
       "      <td>...</td>\n",
       "      <td>...</td>\n",
       "    </tr>\n",
       "    <tr>\n",
       "      <th>87621</th>\n",
       "      <td>76561198323066619</td>\n",
       "      <td>[{'item_id': '413850', 'item_name': 'CS:GO Pla...</td>\n",
       "      <td>22</td>\n",
       "    </tr>\n",
       "    <tr>\n",
       "      <th>87622</th>\n",
       "      <td>76561198326700687</td>\n",
       "      <td>[{'item_id': '11020', 'item_name': 'TrackMania...</td>\n",
       "      <td>177</td>\n",
       "    </tr>\n",
       "    <tr>\n",
       "      <th>87623</th>\n",
       "      <td>XxLaughingJackClown77xX</td>\n",
       "      <td>[]</td>\n",
       "      <td>0</td>\n",
       "    </tr>\n",
       "    <tr>\n",
       "      <th>87624</th>\n",
       "      <td>76561198329548331</td>\n",
       "      <td>[{'item_id': '304930', 'item_name': 'Unturned'...</td>\n",
       "      <td>7</td>\n",
       "    </tr>\n",
       "    <tr>\n",
       "      <th>87625</th>\n",
       "      <td>edward_tremethick</td>\n",
       "      <td>[]</td>\n",
       "      <td>0</td>\n",
       "    </tr>\n",
       "  </tbody>\n",
       "</table>\n",
       "<p>87626 rows × 3 columns</p>\n",
       "</div>"
      ],
      "text/plain": [
       "                       user_id  \\\n",
       "0            76561197970982479   \n",
       "1                      js41637   \n",
       "2                    evcentric   \n",
       "3                   Riot-Punch   \n",
       "4                        doctr   \n",
       "...                        ...   \n",
       "87621        76561198323066619   \n",
       "87622        76561198326700687   \n",
       "87623  XxLaughingJackClown77xX   \n",
       "87624        76561198329548331   \n",
       "87625        edward_tremethick   \n",
       "\n",
       "                                                   items  items_count  \n",
       "0      [{'item_id': '10', 'item_name': 'Counter-Strik...          277  \n",
       "1      [{'item_id': '10', 'item_name': 'Counter-Strik...          888  \n",
       "2      [{'item_id': '1200', 'item_name': 'Red Orchest...          137  \n",
       "3      [{'item_id': '10', 'item_name': 'Counter-Strik...          328  \n",
       "4      [{'item_id': '300', 'item_name': 'Day of Defea...          541  \n",
       "...                                                  ...          ...  \n",
       "87621  [{'item_id': '413850', 'item_name': 'CS:GO Pla...           22  \n",
       "87622  [{'item_id': '11020', 'item_name': 'TrackMania...          177  \n",
       "87623                                                 []            0  \n",
       "87624  [{'item_id': '304930', 'item_name': 'Unturned'...            7  \n",
       "87625                                                 []            0  \n",
       "\n",
       "[87626 rows x 3 columns]"
      ]
     },
     "execution_count": 6,
     "metadata": {},
     "output_type": "execute_result"
    }
   ],
   "source": [
    "dfUserItems"
   ]
  },
  {
   "cell_type": "markdown",
   "metadata": {},
   "source": [
    "Vemos los juegos de un usuarios cualquiera"
   ]
  },
  {
   "cell_type": "code",
   "execution_count": 7,
   "metadata": {},
   "outputs": [
    {
     "name": "stdout",
     "output_type": "stream",
     "text": [
      "{'item_id': '8190', 'item_name': 'Just Cause 2', 'playtime_forever': 115, 'playtime_2weeks': 97}\n",
      "{'item_id': '105600', 'item_name': 'Terraria', 'playtime_forever': 8592, 'playtime_2weeks': 198}\n",
      "{'item_id': '212070', 'item_name': 'Star Conflict', 'playtime_forever': 15, 'playtime_2weeks': 0}\n",
      "{'item_id': '218230', 'item_name': 'PlanetSide 2', 'playtime_forever': 53, 'playtime_2weeks': 0}\n",
      "{'item_id': '230410', 'item_name': 'Warframe', 'playtime_forever': 22954, 'playtime_2weeks': 2099}\n",
      "{'item_id': '236390', 'item_name': 'War Thunder', 'playtime_forever': 2544, 'playtime_2weeks': 0}\n",
      "{'item_id': '214420', 'item_name': 'Gear Up', 'playtime_forever': 96, 'playtime_2weeks': 0}\n",
      "{'item_id': '271290', 'item_name': 'HAWKEN', 'playtime_forever': 416, 'playtime_2weeks': 0}\n",
      "{'item_id': '244850', 'item_name': 'Space Engineers', 'playtime_forever': 77, 'playtime_2weeks': 0}\n",
      "{'item_id': '252490', 'item_name': 'Rust', 'playtime_forever': 52, 'playtime_2weeks': 0}\n",
      "{'item_id': '263060', 'item_name': 'Blockstorm', 'playtime_forever': 1081, 'playtime_2weeks': 0}\n",
      "{'item_id': '301520', 'item_name': 'Robocraft', 'playtime_forever': 1174, 'playtime_2weeks': 0}\n",
      "{'item_id': '304050', 'item_name': 'Trove', 'playtime_forever': 1070, 'playtime_2weeks': 0}\n",
      "{'item_id': '307880', 'item_name': 'Savage Lands', 'playtime_forever': 0, 'playtime_2weeks': 0}\n",
      "{'item_id': '291480', 'item_name': 'Warface', 'playtime_forever': 1231, 'playtime_2weeks': 0}\n",
      "{'item_id': '323060', 'item_name': 'Tharsis', 'playtime_forever': 0, 'playtime_2weeks': 0}\n",
      "{'item_id': '342200', 'item_name': 'MechWarrior Online', 'playtime_forever': 36, 'playtime_2weeks': 0}\n",
      "{'item_id': '343710', 'item_name': 'KHOLAT', 'playtime_forever': 0, 'playtime_2weeks': 0}\n",
      "{'item_id': '346120', 'item_name': 'Boring Man - Online Tactical Stickman Combat', 'playtime_forever': 375, 'playtime_2weeks': 0}\n",
      "{'item_id': '353130', 'item_name': 'Time of Dragons', 'playtime_forever': 408, 'playtime_2weeks': 0}\n",
      "{'item_id': '275100', 'item_name': 'Shelter 2', 'playtime_forever': 45, 'playtime_2weeks': 0}\n",
      "{'item_id': '291550', 'item_name': 'Brawlhalla', 'playtime_forever': 32, 'playtime_2weeks': 0}\n",
      "{'item_id': '397100', 'item_name': 'MachineCraft', 'playtime_forever': 5, 'playtime_2weeks': 0}\n",
      "{'item_id': '236110', 'item_name': 'Dungeon Defenders II', 'playtime_forever': 31, 'playtime_2weeks': 0}\n",
      "{'item_id': '280790', 'item_name': 'Creativerse', 'playtime_forever': 1196, 'playtime_2weeks': 0}\n",
      "{'item_id': '427730', 'item_name': \"Who's Your Daddy\", 'playtime_forever': 134, 'playtime_2weeks': 0}\n",
      "{'item_id': '420790', 'item_name': 'StarBreak', 'playtime_forever': 41, 'playtime_2weeks': 0}\n"
     ]
    }
   ],
   "source": [
    "#Ver todos los diccionarios de la columna 'items' en la fila 77 \n",
    "for dic in dfUserItems.loc[77, 'items']:\n",
    "    print(dic) # con dic['item_name'] veo solo los nombres de los juegos"
   ]
  },
  {
   "cell_type": "markdown",
   "metadata": {},
   "source": [
    "Convirtamos las claves de los JSON que estan en 'reviews' en columnas"
   ]
  },
  {
   "cell_type": "code",
   "execution_count": 8,
   "metadata": {},
   "outputs": [],
   "source": [
    "# Entre otras cosas, json_normalize corrige las comillas simples y dobles de JSON en 'items'\n",
    "dfUserItems = pd.json_normalize(df.to_dict('records'), 'items', ['user_id', 'items_count'])\n",
    "\n",
    "# Ordenamos las columnas:\n",
    "dfUserItems = dfUserItems[\n",
    "  [\n",
    "    'user_id',\n",
    "    'item_id',\n",
    "    'item_name',\n",
    "    'items_count',\n",
    "    'playtime_forever',\n",
    "    'playtime_2weeks'\n",
    "  ]\n",
    "]"
   ]
  },
  {
   "cell_type": "code",
   "execution_count": 9,
   "metadata": {},
   "outputs": [
    {
     "name": "stdout",
     "output_type": "stream",
     "text": [
      "<class 'pandas.core.frame.DataFrame'>\n",
      "RangeIndex: 5153209 entries, 0 to 5153208\n",
      "Data columns (total 6 columns):\n",
      " #   Column            Dtype \n",
      "---  ------            ----- \n",
      " 0   user_id           object\n",
      " 1   item_id           object\n",
      " 2   item_name         object\n",
      " 3   items_count       object\n",
      " 4   playtime_forever  int64 \n",
      " 5   playtime_2weeks   int64 \n",
      "dtypes: int64(2), object(4)\n",
      "memory usage: 235.9+ MB\n"
     ]
    }
   ],
   "source": [
    "dfUserItems.info()"
   ]
  },
  {
   "cell_type": "code",
   "execution_count": 10,
   "metadata": {},
   "outputs": [
    {
     "data": {
      "text/html": [
       "<div>\n",
       "<style scoped>\n",
       "    .dataframe tbody tr th:only-of-type {\n",
       "        vertical-align: middle;\n",
       "    }\n",
       "\n",
       "    .dataframe tbody tr th {\n",
       "        vertical-align: top;\n",
       "    }\n",
       "\n",
       "    .dataframe thead th {\n",
       "        text-align: right;\n",
       "    }\n",
       "</style>\n",
       "<table border=\"1\" class=\"dataframe\">\n",
       "  <thead>\n",
       "    <tr style=\"text-align: right;\">\n",
       "      <th></th>\n",
       "      <th>user_id</th>\n",
       "      <th>item_id</th>\n",
       "      <th>item_name</th>\n",
       "      <th>items_count</th>\n",
       "      <th>playtime_forever</th>\n",
       "      <th>playtime_2weeks</th>\n",
       "    </tr>\n",
       "  </thead>\n",
       "  <tbody>\n",
       "    <tr>\n",
       "      <th>0</th>\n",
       "      <td>76561197970982479</td>\n",
       "      <td>10</td>\n",
       "      <td>Counter-Strike</td>\n",
       "      <td>277</td>\n",
       "      <td>6</td>\n",
       "      <td>0</td>\n",
       "    </tr>\n",
       "    <tr>\n",
       "      <th>1</th>\n",
       "      <td>76561197970982479</td>\n",
       "      <td>20</td>\n",
       "      <td>Team Fortress Classic</td>\n",
       "      <td>277</td>\n",
       "      <td>0</td>\n",
       "      <td>0</td>\n",
       "    </tr>\n",
       "    <tr>\n",
       "      <th>2</th>\n",
       "      <td>76561197970982479</td>\n",
       "      <td>30</td>\n",
       "      <td>Day of Defeat</td>\n",
       "      <td>277</td>\n",
       "      <td>7</td>\n",
       "      <td>0</td>\n",
       "    </tr>\n",
       "    <tr>\n",
       "      <th>3</th>\n",
       "      <td>76561197970982479</td>\n",
       "      <td>40</td>\n",
       "      <td>Deathmatch Classic</td>\n",
       "      <td>277</td>\n",
       "      <td>0</td>\n",
       "      <td>0</td>\n",
       "    </tr>\n",
       "    <tr>\n",
       "      <th>4</th>\n",
       "      <td>76561197970982479</td>\n",
       "      <td>50</td>\n",
       "      <td>Half-Life: Opposing Force</td>\n",
       "      <td>277</td>\n",
       "      <td>0</td>\n",
       "      <td>0</td>\n",
       "    </tr>\n",
       "    <tr>\n",
       "      <th>...</th>\n",
       "      <td>...</td>\n",
       "      <td>...</td>\n",
       "      <td>...</td>\n",
       "      <td>...</td>\n",
       "      <td>...</td>\n",
       "      <td>...</td>\n",
       "    </tr>\n",
       "    <tr>\n",
       "      <th>5153204</th>\n",
       "      <td>76561198329548331</td>\n",
       "      <td>346330</td>\n",
       "      <td>BrainBread 2</td>\n",
       "      <td>7</td>\n",
       "      <td>0</td>\n",
       "      <td>0</td>\n",
       "    </tr>\n",
       "    <tr>\n",
       "      <th>5153205</th>\n",
       "      <td>76561198329548331</td>\n",
       "      <td>373330</td>\n",
       "      <td>All Is Dust</td>\n",
       "      <td>7</td>\n",
       "      <td>0</td>\n",
       "      <td>0</td>\n",
       "    </tr>\n",
       "    <tr>\n",
       "      <th>5153206</th>\n",
       "      <td>76561198329548331</td>\n",
       "      <td>388490</td>\n",
       "      <td>One Way To Die: Steam Edition</td>\n",
       "      <td>7</td>\n",
       "      <td>3</td>\n",
       "      <td>3</td>\n",
       "    </tr>\n",
       "    <tr>\n",
       "      <th>5153207</th>\n",
       "      <td>76561198329548331</td>\n",
       "      <td>521570</td>\n",
       "      <td>You Have 10 Seconds 2</td>\n",
       "      <td>7</td>\n",
       "      <td>4</td>\n",
       "      <td>4</td>\n",
       "    </tr>\n",
       "    <tr>\n",
       "      <th>5153208</th>\n",
       "      <td>76561198329548331</td>\n",
       "      <td>519140</td>\n",
       "      <td>Minds Eyes</td>\n",
       "      <td>7</td>\n",
       "      <td>3</td>\n",
       "      <td>3</td>\n",
       "    </tr>\n",
       "  </tbody>\n",
       "</table>\n",
       "<p>5153209 rows × 6 columns</p>\n",
       "</div>"
      ],
      "text/plain": [
       "                   user_id item_id                      item_name items_count  \\\n",
       "0        76561197970982479      10                 Counter-Strike         277   \n",
       "1        76561197970982479      20          Team Fortress Classic         277   \n",
       "2        76561197970982479      30                  Day of Defeat         277   \n",
       "3        76561197970982479      40             Deathmatch Classic         277   \n",
       "4        76561197970982479      50      Half-Life: Opposing Force         277   \n",
       "...                    ...     ...                            ...         ...   \n",
       "5153204  76561198329548331  346330                   BrainBread 2           7   \n",
       "5153205  76561198329548331  373330                    All Is Dust           7   \n",
       "5153206  76561198329548331  388490  One Way To Die: Steam Edition           7   \n",
       "5153207  76561198329548331  521570          You Have 10 Seconds 2           7   \n",
       "5153208  76561198329548331  519140                     Minds Eyes           7   \n",
       "\n",
       "         playtime_forever  playtime_2weeks  \n",
       "0                       6                0  \n",
       "1                       0                0  \n",
       "2                       7                0  \n",
       "3                       0                0  \n",
       "4                       0                0  \n",
       "...                   ...              ...  \n",
       "5153204                 0                0  \n",
       "5153205                 0                0  \n",
       "5153206                 3                3  \n",
       "5153207                 4                4  \n",
       "5153208                 3                3  \n",
       "\n",
       "[5153209 rows x 6 columns]"
      ]
     },
     "execution_count": 10,
     "metadata": {},
     "output_type": "execute_result"
    }
   ],
   "source": [
    "dfUserItems"
   ]
  },
  {
   "cell_type": "markdown",
   "metadata": {},
   "source": [
    "Antes de persistir los datos en un formatos csv, nos aseguraremos de que no hayan quedado datos NaN en el dataframe"
   ]
  },
  {
   "cell_type": "code",
   "execution_count": 11,
   "metadata": {},
   "outputs": [
    {
     "data": {
      "text/plain": [
       "user_id             0\n",
       "item_id             0\n",
       "item_name           0\n",
       "items_count         0\n",
       "playtime_forever    0\n",
       "playtime_2weeks     0\n",
       "dtype: int64"
      ]
     },
     "execution_count": 11,
     "metadata": {},
     "output_type": "execute_result"
    }
   ],
   "source": [
    "# Aplicamos una mascara para marcar los valores NaN y los sumamos por columna\n",
    "dfUserItems.isna().sum()"
   ]
  },
  {
   "cell_type": "markdown",
   "metadata": {},
   "source": [
    "Listo los datos 'masticados' para que los cinetificos de datos hagan lo suyo"
   ]
  },
  {
   "cell_type": "code",
   "execution_count": 12,
   "metadata": {},
   "outputs": [
    {
     "data": {
      "text/html": [
       "<div>\n",
       "<style scoped>\n",
       "    .dataframe tbody tr th:only-of-type {\n",
       "        vertical-align: middle;\n",
       "    }\n",
       "\n",
       "    .dataframe tbody tr th {\n",
       "        vertical-align: top;\n",
       "    }\n",
       "\n",
       "    .dataframe thead th {\n",
       "        text-align: right;\n",
       "    }\n",
       "</style>\n",
       "<table border=\"1\" class=\"dataframe\">\n",
       "  <thead>\n",
       "    <tr style=\"text-align: right;\">\n",
       "      <th></th>\n",
       "      <th>user_id</th>\n",
       "      <th>item_id</th>\n",
       "      <th>item_name</th>\n",
       "      <th>items_count</th>\n",
       "      <th>playtime_forever</th>\n",
       "      <th>playtime_2weeks</th>\n",
       "    </tr>\n",
       "  </thead>\n",
       "  <tbody>\n",
       "    <tr>\n",
       "      <th>0</th>\n",
       "      <td>76561197970982479</td>\n",
       "      <td>10</td>\n",
       "      <td>Counter-Strike</td>\n",
       "      <td>277</td>\n",
       "      <td>6</td>\n",
       "      <td>0</td>\n",
       "    </tr>\n",
       "    <tr>\n",
       "      <th>1</th>\n",
       "      <td>76561197970982479</td>\n",
       "      <td>20</td>\n",
       "      <td>Team Fortress Classic</td>\n",
       "      <td>277</td>\n",
       "      <td>0</td>\n",
       "      <td>0</td>\n",
       "    </tr>\n",
       "  </tbody>\n",
       "</table>\n",
       "</div>"
      ],
      "text/plain": [
       "             user_id item_id              item_name items_count  \\\n",
       "0  76561197970982479      10         Counter-Strike         277   \n",
       "1  76561197970982479      20  Team Fortress Classic         277   \n",
       "\n",
       "   playtime_forever  playtime_2weeks  \n",
       "0                 6                0  \n",
       "1                 0                0  "
      ]
     },
     "execution_count": 12,
     "metadata": {},
     "output_type": "execute_result"
    }
   ],
   "source": [
    "dfUserItems.head(2)"
   ]
  },
  {
   "cell_type": "code",
   "execution_count": 13,
   "metadata": {},
   "outputs": [],
   "source": [
    "dfUserItems.reset_index(drop = True, inplace = True)"
   ]
  },
  {
   "cell_type": "code",
   "execution_count": 14,
   "metadata": {},
   "outputs": [
    {
     "name": "stdout",
     "output_type": "stream",
     "text": [
      "<class 'pandas.core.frame.DataFrame'>\n",
      "RangeIndex: 5153209 entries, 0 to 5153208\n",
      "Data columns (total 6 columns):\n",
      " #   Column            Dtype \n",
      "---  ------            ----- \n",
      " 0   user_id           object\n",
      " 1   item_id           object\n",
      " 2   item_name         object\n",
      " 3   items_count       object\n",
      " 4   playtime_forever  int64 \n",
      " 5   playtime_2weeks   int64 \n",
      "dtypes: int64(2), object(4)\n",
      "memory usage: 235.9+ MB\n"
     ]
    }
   ],
   "source": [
    "dfUserItems.info()"
   ]
  },
  {
   "cell_type": "code",
   "execution_count": 15,
   "metadata": {},
   "outputs": [],
   "source": [
    "# Guardar el DataFrame en un archivo .csv comprimido con gzip\n",
    "dfUserItems.to_csv('../datasource/user_items_chewed.csv.gz', compression = 'gzip', index = False)"
   ]
  }
 ],
 "metadata": {
  "kernelspec": {
   "display_name": "Python 3",
   "language": "python",
   "name": "python3"
  },
  "language_info": {
   "codemirror_mode": {
    "name": "ipython",
    "version": 3
   },
   "file_extension": ".py",
   "mimetype": "text/x-python",
   "name": "python",
   "nbconvert_exporter": "python",
   "pygments_lexer": "ipython3",
   "version": "3.10.12"
  }
 },
 "nbformat": 4,
 "nbformat_minor": 2
}
